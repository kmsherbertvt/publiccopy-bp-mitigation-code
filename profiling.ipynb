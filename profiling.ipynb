{
 "cells": [
  {
   "cell_type": "code",
   "execution_count": 1,
   "metadata": {},
   "outputs": [],
   "source": [
    "%load_ext line_profiler"
   ]
  },
  {
   "cell_type": "code",
   "execution_count": 2,
   "metadata": {},
   "outputs": [],
   "source": [
    "from functools import reduce"
   ]
  },
  {
   "cell_type": "code",
   "execution_count": 3,
   "metadata": {},
   "outputs": [],
   "source": [
    "import numpy as np\n",
    "import numba\n",
    "\n",
    "from simulator import pauli_ansatz, mcp_g_list, hwe_ansatz, kron_args, get_gradient_fd, pauli_str, qaoa_ansatz\n",
    "from bp_discovery import get_op, gen_hwe_exps, grad_comp, gen_mcp_exps, gen_qaoa_exps, gen_spc_exps, gen_mcp_hardware_exps\n",
    "from kron_vec_product import kron_vec_prod, refold, unfold"
   ]
  },
  {
   "cell_type": "code",
   "execution_count": 4,
   "metadata": {},
   "outputs": [],
   "source": [
    "# Define experiments\n",
    "num_samples = 2\n",
    "qubits = [4, 6, 8]\n",
    "layers = [5]\n",
    "graphs = ['path', 'complete', 'cycle', 'star']\n",
    "\n",
    "experiments = []\n",
    "experiments.extend(gen_mcp_hardware_exps(\n",
    "    qubits=qubits, \n",
    "    graph_names=graphs, \n",
    "    layers=layers, \n",
    "    num_samples=num_samples\n",
    "))\n",
    "#experiments.extend(gen_spc_exps(qubits, num_samples))\n",
    "#experiments.extend(gen_hwe_exps(qubits, num_samples, depth_range=[1000]))\n",
    "#experiments.extend(gen_qaoa_exps(qubits, num_samples, depth_range=[10]))\n",
    "#experiments.extend(gen_mcp_exps(qubits, num_samples, depth_range=[100, 200]))"
   ]
  },
  {
   "cell_type": "code",
   "execution_count": 5,
   "metadata": {},
   "outputs": [],
   "source": [
    "#{'n': 4, 'l': 1000, 'k': 820, 'ans': 'hwe', 'num_pars': 4000}"
   ]
  },
  {
   "cell_type": "code",
   "execution_count": 6,
   "metadata": {},
   "outputs": [
    {
     "name": "stdout",
     "output_type": "stream",
     "text": [
      "{'n': 4, 'l': 5, 'k': 2, 'ans': 'hardware', 'num_pars': 5, 'graph_info': {'name': 'path'}}\n",
      "{'n': 4, 'l': 5, 'k': 2, 'ans': 'hardware', 'num_pars': 5, 'graph_info': {'name': 'path'}, 'grad': 3.6499692157576646}\n",
      "{'n': 4, 'l': 5, 'k': 2, 'ans': 'hardware', 'num_pars': 5, 'graph_info': {'name': 'path'}}\n",
      "{'n': 4, 'l': 5, 'k': 2, 'ans': 'hardware', 'num_pars': 5, 'graph_info': {'name': 'path'}, 'grad': -3.611333454500709}\n",
      "{'n': 6, 'l': 5, 'k': 0, 'ans': 'hardware', 'num_pars': 5, 'graph_info': {'name': 'path'}}\n",
      "{'n': 6, 'l': 5, 'k': 0, 'ans': 'hardware', 'num_pars': 5, 'graph_info': {'name': 'path'}, 'grad': 1.1740053373898718}\n",
      "{'n': 6, 'l': 5, 'k': 2, 'ans': 'hardware', 'num_pars': 5, 'graph_info': {'name': 'path'}}\n",
      "{'n': 6, 'l': 5, 'k': 2, 'ans': 'hardware', 'num_pars': 5, 'graph_info': {'name': 'path'}, 'grad': 2.034816759532987}\n",
      "{'n': 8, 'l': 5, 'k': 2, 'ans': 'hardware', 'num_pars': 5, 'graph_info': {'name': 'path'}}\n",
      "{'n': 8, 'l': 5, 'k': 2, 'ans': 'hardware', 'num_pars': 5, 'graph_info': {'name': 'path'}, 'grad': -4.676259379721159}\n",
      "{'n': 8, 'l': 5, 'k': 2, 'ans': 'hardware', 'num_pars': 5, 'graph_info': {'name': 'path'}}\n",
      "{'n': 8, 'l': 5, 'k': 2, 'ans': 'hardware', 'num_pars': 5, 'graph_info': {'name': 'path'}, 'grad': 4.7055692675712635}\n",
      "{'n': 4, 'l': 5, 'k': 4, 'ans': 'hardware', 'num_pars': 5, 'graph_info': {'name': 'complete'}}\n",
      "{'n': 4, 'l': 5, 'k': 4, 'ans': 'hardware', 'num_pars': 5, 'graph_info': {'name': 'complete'}, 'grad': -1.20525811553307}\n",
      "{'n': 4, 'l': 5, 'k': 0, 'ans': 'hardware', 'num_pars': 5, 'graph_info': {'name': 'complete'}}\n",
      "{'n': 4, 'l': 5, 'k': 0, 'ans': 'hardware', 'num_pars': 5, 'graph_info': {'name': 'complete'}, 'grad': -1.1874945471390674}\n",
      "{'n': 6, 'l': 5, 'k': 1, 'ans': 'hardware', 'num_pars': 5, 'graph_info': {'name': 'complete'}}\n",
      "{'n': 6, 'l': 5, 'k': 1, 'ans': 'hardware', 'num_pars': 5, 'graph_info': {'name': 'complete'}, 'grad': -0.031086244689504383}\n",
      "{'n': 6, 'l': 5, 'k': 2, 'ans': 'hardware', 'num_pars': 5, 'graph_info': {'name': 'complete'}}\n",
      "{'n': 6, 'l': 5, 'k': 2, 'ans': 'hardware', 'num_pars': 5, 'graph_info': {'name': 'complete'}, 'grad': -2.26929586233382}\n",
      "{'n': 8, 'l': 5, 'k': 0, 'ans': 'hardware', 'num_pars': 5, 'graph_info': {'name': 'complete'}}\n",
      "{'n': 8, 'l': 5, 'k': 0, 'ans': 'hardware', 'num_pars': 5, 'graph_info': {'name': 'complete'}, 'grad': 5.593747687271389}\n",
      "{'n': 8, 'l': 5, 'k': 3, 'ans': 'hardware', 'num_pars': 5, 'graph_info': {'name': 'complete'}}\n",
      "{'n': 8, 'l': 5, 'k': 3, 'ans': 'hardware', 'num_pars': 5, 'graph_info': {'name': 'complete'}, 'grad': 0.041744385725905886}\n",
      "{'n': 4, 'l': 5, 'k': 2, 'ans': 'hardware', 'num_pars': 5, 'graph_info': {'name': 'cycle'}}\n",
      "{'n': 4, 'l': 5, 'k': 2, 'ans': 'hardware', 'num_pars': 5, 'graph_info': {'name': 'cycle'}, 'grad': -0.2000621890374532}\n",
      "{'n': 4, 'l': 5, 'k': 4, 'ans': 'hardware', 'num_pars': 5, 'graph_info': {'name': 'cycle'}}\n",
      "{'n': 4, 'l': 5, 'k': 4, 'ans': 'hardware', 'num_pars': 5, 'graph_info': {'name': 'cycle'}, 'grad': 0.4597433544972773}\n",
      "{'n': 6, 'l': 5, 'k': 0, 'ans': 'hardware', 'num_pars': 5, 'graph_info': {'name': 'cycle'}}\n",
      "{'n': 6, 'l': 5, 'k': 0, 'ans': 'hardware', 'num_pars': 5, 'graph_info': {'name': 'cycle'}, 'grad': 2.531308496145357}\n",
      "{'n': 6, 'l': 5, 'k': 2, 'ans': 'hardware', 'num_pars': 5, 'graph_info': {'name': 'cycle'}}\n",
      "{'n': 6, 'l': 5, 'k': 2, 'ans': 'hardware', 'num_pars': 5, 'graph_info': {'name': 'cycle'}, 'grad': 0.10835776720341528}\n",
      "{'n': 8, 'l': 5, 'k': 3, 'ans': 'hardware', 'num_pars': 5, 'graph_info': {'name': 'cycle'}}\n",
      "{'n': 8, 'l': 5, 'k': 3, 'ans': 'hardware', 'num_pars': 5, 'graph_info': {'name': 'cycle'}, 'grad': -3.625544309215911}\n",
      "{'n': 8, 'l': 5, 'k': 4, 'ans': 'hardware', 'num_pars': 5, 'graph_info': {'name': 'cycle'}}\n",
      "{'n': 8, 'l': 5, 'k': 4, 'ans': 'hardware', 'num_pars': 5, 'graph_info': {'name': 'cycle'}, 'grad': 0.5551115123125783}\n",
      "{'n': 4, 'l': 5, 'k': 4, 'ans': 'hardware', 'num_pars': 5, 'graph_info': {'name': 'star'}}\n",
      "{'n': 4, 'l': 5, 'k': 4, 'ans': 'hardware', 'num_pars': 5, 'graph_info': {'name': 'star'}, 'grad': -0.24463764347615324}\n",
      "{'n': 4, 'l': 5, 'k': 3, 'ans': 'hardware', 'num_pars': 5, 'graph_info': {'name': 'star'}}\n",
      "{'n': 4, 'l': 5, 'k': 3, 'ans': 'hardware', 'num_pars': 5, 'graph_info': {'name': 'star'}, 'grad': -1.191935439237568}\n",
      "{'n': 6, 'l': 5, 'k': 0, 'ans': 'hardware', 'num_pars': 5, 'graph_info': {'name': 'star'}}\n",
      "{'n': 6, 'l': 5, 'k': 0, 'ans': 'hardware', 'num_pars': 5, 'graph_info': {'name': 'star'}, 'grad': -3.7543301800724294}\n",
      "{'n': 6, 'l': 5, 'k': 1, 'ans': 'hardware', 'num_pars': 5, 'graph_info': {'name': 'star'}}\n",
      "{'n': 6, 'l': 5, 'k': 1, 'ans': 'hardware', 'num_pars': 5, 'graph_info': {'name': 'star'}, 'grad': 4.312994406063808}\n",
      "{'n': 8, 'l': 5, 'k': 4, 'ans': 'hardware', 'num_pars': 5, 'graph_info': {'name': 'star'}}\n",
      "{'n': 8, 'l': 5, 'k': 4, 'ans': 'hardware', 'num_pars': 5, 'graph_info': {'name': 'star'}, 'grad': 4.384048679639818}\n",
      "{'n': 8, 'l': 5, 'k': 2, 'ans': 'hardware', 'num_pars': 5, 'graph_info': {'name': 'star'}}\n",
      "{'n': 8, 'l': 5, 'k': 2, 'ans': 'hardware', 'num_pars': 5, 'graph_info': {'name': 'star'}, 'grad': 0.1758593271006248}\n"
     ]
    }
   ],
   "source": [
    "for exp in experiments:\n",
    "    print(exp)\n",
    "    print(grad_comp(exp))"
   ]
  },
  {
   "cell_type": "code",
   "execution_count": 7,
   "metadata": {},
   "outputs": [],
   "source": [
    "vec = np.random.uniform(-np.pi, +np.pi, size=2000*10)"
   ]
  },
  {
   "cell_type": "code",
   "execution_count": 8,
   "metadata": {},
   "outputs": [
    {
     "data": {
      "text/plain": [
       "160000"
      ]
     },
     "execution_count": 8,
     "metadata": {},
     "output_type": "execute_result"
    }
   ],
   "source": [
    "vec.size * vec.itemsize"
   ]
  },
  {
   "cell_type": "code",
   "execution_count": null,
   "metadata": {},
   "outputs": [],
   "source": []
  }
 ],
 "metadata": {
  "kernelspec": {
   "display_name": "Python 3",
   "language": "python",
   "name": "python3"
  },
  "language_info": {
   "codemirror_mode": {
    "name": "ipython",
    "version": 3
   },
   "file_extension": ".py",
   "mimetype": "text/x-python",
   "name": "python",
   "nbconvert_exporter": "python",
   "pygments_lexer": "ipython3",
   "version": "3.8.5"
  }
 },
 "nbformat": 4,
 "nbformat_minor": 4
}
