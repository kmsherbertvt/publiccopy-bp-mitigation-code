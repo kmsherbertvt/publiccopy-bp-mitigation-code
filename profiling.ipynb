{
 "cells": [
  {
   "cell_type": "code",
   "execution_count": 1,
   "metadata": {},
   "outputs": [],
   "source": [
    "%load_ext line_profiler"
   ]
  },
  {
   "cell_type": "code",
   "execution_count": 2,
   "metadata": {},
   "outputs": [],
   "source": [
    "from functools import reduce"
   ]
  },
  {
   "cell_type": "code",
   "execution_count": 3,
   "metadata": {},
   "outputs": [],
   "source": [
    "import numpy as np\n",
    "import numba\n",
    "\n",
    "from simulator import pauli_ansatz, mcp_g_list, hwe_ansatz, kron_args, get_gradient_fd, pauli_str\n",
    "from bp_discovery import get_op, gen_hwe_exps, grad_comp, gen_mcp_exps\n",
    "from kron_vec_product import kron_vec_prod, refold, unfold"
   ]
  },
  {
   "cell_type": "code",
   "execution_count": 7,
   "metadata": {},
   "outputs": [],
   "source": [
    "# Define experiments\n",
    "num_samples = 2\n",
    "qubits = [4, 6]\n",
    "\n",
    "experiments = []\n",
    "experiments.extend(gen_hwe_exps(qubits, num_samples, depth_range=[1000]))\n",
    "#experiments.extend(gen_mcp_exps(qubits, num_samples, depth_range=[100, 200]))"
   ]
  },
  {
   "cell_type": "code",
   "execution_count": 8,
   "metadata": {},
   "outputs": [],
   "source": [
    "#{'n': 4, 'l': 1000, 'k': 820, 'ans': 'hwe', 'num_pars': 4000}"
   ]
  },
  {
   "cell_type": "code",
   "execution_count": 9,
   "metadata": {},
   "outputs": [
    {
     "name": "stdout",
     "output_type": "stream",
     "text": [
      "{'n': 4, 'l': 1000, 'k': 3915, 'ans': 'hwe', 'num_pars': 4000, 'grad': 0.1403321903126198}\n",
      "{'n': 4, 'l': 1000, 'k': 1776, 'ans': 'hwe', 'num_pars': 4000, 'grad': -0.5524469770534779}\n",
      "{'n': 6, 'l': 1000, 'k': 5212, 'ans': 'hwe', 'num_pars': 6000, 'grad': -0.4235500838944972}\n",
      "{'n': 6, 'l': 1000, 'k': 1231, 'ans': 'hwe', 'num_pars': 6000, 'grad': -0.27844393457598926}\n"
     ]
    }
   ],
   "source": [
    "for exp in experiments:\n",
    "    print(grad_comp(exp))"
   ]
  },
  {
   "cell_type": "code",
   "execution_count": 10,
   "metadata": {},
   "outputs": [],
   "source": [
    "vec = np.random.uniform(-np.pi, +np.pi, size=2000*10)"
   ]
  },
  {
   "cell_type": "code",
   "execution_count": 12,
   "metadata": {},
   "outputs": [
    {
     "data": {
      "text/plain": [
       "160000"
      ]
     },
     "execution_count": 12,
     "metadata": {},
     "output_type": "execute_result"
    }
   ],
   "source": [
    "vec.size * vec.itemsize"
   ]
  },
  {
   "cell_type": "code",
   "execution_count": null,
   "metadata": {},
   "outputs": [],
   "source": []
  }
 ],
 "metadata": {
  "kernelspec": {
   "display_name": "Python 3",
   "language": "python",
   "name": "python3"
  },
  "language_info": {
   "codemirror_mode": {
    "name": "ipython",
    "version": 3
   },
   "file_extension": ".py",
   "mimetype": "text/x-python",
   "name": "python",
   "nbconvert_exporter": "python",
   "pygments_lexer": "ipython3",
   "version": "3.8.5"
  }
 },
 "nbformat": 4,
 "nbformat_minor": 4
}
