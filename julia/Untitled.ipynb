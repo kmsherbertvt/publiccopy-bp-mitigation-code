{
 "cells": [
  {
   "cell_type": "code",
   "execution_count": 19,
   "metadata": {},
   "outputs": [
    {
     "name": "stdout",
     "output_type": "stream",
     "text": [
      "Phi: [ 0.9316158 -0.28818254j  0.18884787-0.05841749j -0.0058613 +0.01894799j\n",
      "  0.0289147 -0.09347337j]\n",
      "\n",
      "Energy phi: (0.9210609940028855+0j)\n",
      "\n",
      "Ket: [ 9.75170327e-01+5.55111512e-17j  1.97676812e-01+0.00000000e+00j\n",
      "  0.00000000e+00+1.98338381e-02j -3.46944695e-18-9.78433950e-02j]\n",
      "\n",
      "Hbra: [ 9.75170327e-01-5.55111512e-17j -1.97676812e-01+0.00000000e+00j\n",
      "  0.00000000e+00+1.98338381e-02j -3.46944695e-18+9.78433950e-02j]\n",
      "\n"
     ]
    }
   ],
   "source": [
    "import numpy as np\n",
    "from scipy.linalg import expm\n",
    "\n",
    "X = np.array([[0, 1], [1, 0]])\n",
    "Y = np.array([[0, -1j], [1j, 0]])\n",
    "Z = np.array([[1, 0], [0, -1]])\n",
    "I = np.array([[1, 0], [0, 1]])\n",
    "\n",
    "H = np.kron(Z, Z)\n",
    "\n",
    "params = [0.1, 0.2, 0.3]\n",
    "ops = [np.kron(X, X), np.kron(I, Y), np.kron(Z, I)]\n",
    "\n",
    "ref = np.array([1, 0, 0, 0])\n",
    "ref = ref / np.linalg.norm(ref)\n",
    "\n",
    "phi = expm(-1j*params[2]*ops[2])@expm(-1j*params[1]*ops[1])@expm(-1j*params[0]*ops[0])@ref\n",
    "\n",
    "print(f'Phi: {phi}\\n')\n",
    "\n",
    "print(f'Energy phi: {phi.T.conj()@H@phi}\\n')\n",
    "\n",
    "ket = expm(1j*params[2]*ops[2])@phi\n",
    "print(f'Ket: {ket}\\n')\n",
    "\n",
    "hbra = phi.T.conj()@expm(-1j*params[2]*ops[2])@H\n",
    "print(f'Hbra: {hbra}\\n')\n",
    "\n",
    "#grad = 2*hbra@ops[2]@ket\n",
    "#print(f'Grad: {grad}\\n')"
   ]
  }
 ],
 "metadata": {
  "kernelspec": {
   "display_name": "Python 3",
   "language": "python",
   "name": "python3"
  },
  "language_info": {
   "codemirror_mode": {
    "name": "ipython",
    "version": 3
   },
   "file_extension": ".py",
   "mimetype": "text/x-python",
   "name": "python",
   "nbconvert_exporter": "python",
   "pygments_lexer": "ipython3",
   "version": "3.8.3"
  }
 },
 "nbformat": 4,
 "nbformat_minor": 4
}
