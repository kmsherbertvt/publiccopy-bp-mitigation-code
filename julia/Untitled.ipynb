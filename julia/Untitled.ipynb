{
 "cells": [
  {
   "cell_type": "code",
   "execution_count": 1,
   "metadata": {},
   "outputs": [
    {
     "data": {
      "text/plain": [
       "pauli_ansatz_new! (generic function with 1 method)"
      ]
     },
     "execution_count": 1,
     "metadata": {},
     "output_type": "execute_result"
    }
   ],
   "source": [
    "using Random\n",
    "import LinearAlgebra: norm\n",
    "using Test\n",
    "using BenchmarkTools\n",
    "using ProfileSVG\n",
    "using StatProfilerHTML\n",
    "\n",
    "include(\"fast_pauli_vec_mult.jl\")\n",
    "include(\"simulator.jl\")"
   ]
  },
  {
   "cell_type": "code",
   "execution_count": 2,
   "metadata": {},
   "outputs": [
    {
     "name": "stderr",
     "output_type": "stream",
     "text": [
      "┌ Info: Wrote profiling output to file:///home/gbarron/new_projects/barren_plateaus/julia/statprof/index.html .\n",
      "└ @ StatProfilerHTML /home/gbarron/.julia/packages/StatProfilerHTML/OFVct/src/StatProfilerHTML.jl:49\n"
     ]
    }
   ],
   "source": [
    "n = 10\n",
    "d = 100\n",
    "\n",
    "axes = [[rand(0:3) for j=1:n] for j=1:d]\n",
    "theta = [pi*rand() for j=1:d]\n",
    "\n",
    "# Compiling run\n",
    "result = zeros(ComplexF64, 2^n)\n",
    "tmp1 = zeros(ComplexF64, 2^n)\n",
    "tmp2 = zeros(ComplexF64, 2^n)\n",
    "pauli_ansatz_new!(axes, theta, result, tmp1, tmp2)\n",
    "\n",
    "# Actual run\n",
    "result = zeros(ComplexF64, 2^n)\n",
    "tmp1 = zeros(ComplexF64, 2^n)\n",
    "tmp2 = zeros(ComplexF64, 2^n)\n",
    "@profilehtml pauli_ansatz_new!(axes, theta, result, tmp1, tmp2)"
   ]
  },
  {
   "cell_type": "code",
   "execution_count": 9,
   "metadata": {},
   "outputs": [
    {
     "name": "stdout",
     "output_type": "stream",
     "text": [
      "0 -> 0\n",
      "1 -> 3\n",
      "2 -> 2\n",
      "3 -> 1\n"
     ]
    }
   ],
   "source": [
    "using Printf\n",
    "\n",
    "for i=0:3\n",
    "    inv = mod(i-2*(i%2),4)\n",
    "    @printf(\"%d -> %d\\n\", i, inv)\n",
    "end"
   ]
  }
 ],
 "metadata": {
  "kernelspec": {
   "display_name": "Julia 1.5.1",
   "language": "julia",
   "name": "julia-1.5"
  },
  "language_info": {
   "file_extension": ".jl",
   "mimetype": "application/julia",
   "name": "julia",
   "version": "1.5.1"
  }
 },
 "nbformat": 4,
 "nbformat_minor": 4
}
