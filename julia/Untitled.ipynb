{
 "cells": [
  {
   "cell_type": "code",
   "execution_count": 8,
   "metadata": {},
   "outputs": [
    {
     "data": {
      "text/plain": [
       "pauli_ansatz_new! (generic function with 1 method)"
      ]
     },
     "execution_count": 8,
     "metadata": {},
     "output_type": "execute_result"
    }
   ],
   "source": [
    "using Random\n",
    "import LinearAlgebra: norm\n",
    "using Test\n",
    "using BenchmarkTools\n",
    "using ProfileSVG\n",
    "\n",
    "include(\"fast_pauli_vec_mult.jl\")\n",
    "include(\"simulator.jl\")"
   ]
  },
  {
   "cell_type": "code",
   "execution_count": 9,
   "metadata": {},
   "outputs": [
    {
     "ename": "LoadError",
     "evalue": "\u001b[91mMethodError: no method matching copyto!(::Complex{Float64}, ::Base.Broadcast.Broadcasted{Base.Broadcast.DefaultArrayStyle{0},Tuple{},typeof(identity),Tuple{Complex{Float64}}})\u001b[39m\n\u001b[91m\u001b[0mClosest candidates are:\u001b[39m\n\u001b[91m\u001b[0m  copyto!(\u001b[91m::AbstractArray\u001b[39m, ::Base.Broadcast.Broadcasted{var\"#s826\",Axes,F,Args} where Args<:Tuple where F where Axes where var\"#s826\"<:Base.Broadcast.AbstractArrayStyle{0}) at broadcast.jl:889\u001b[39m\n\u001b[91m\u001b[0m  copyto!(\u001b[91m::AbstractArray\u001b[39m, ::Base.Broadcast.Broadcasted) at broadcast.jl:886\u001b[39m\n\u001b[91m\u001b[0m  copyto!(\u001b[91m::AbstractArray\u001b[39m, ::Any) at abstractarray.jl:730\u001b[39m",
     "output_type": "error",
     "traceback": [
      "\u001b[91mMethodError: no method matching copyto!(::Complex{Float64}, ::Base.Broadcast.Broadcasted{Base.Broadcast.DefaultArrayStyle{0},Tuple{},typeof(identity),Tuple{Complex{Float64}}})\u001b[39m\n\u001b[91m\u001b[0mClosest candidates are:\u001b[39m\n\u001b[91m\u001b[0m  copyto!(\u001b[91m::AbstractArray\u001b[39m, ::Base.Broadcast.Broadcasted{var\"#s826\",Axes,F,Args} where Args<:Tuple where F where Axes where var\"#s826\"<:Base.Broadcast.AbstractArrayStyle{0}) at broadcast.jl:889\u001b[39m\n\u001b[91m\u001b[0m  copyto!(\u001b[91m::AbstractArray\u001b[39m, ::Base.Broadcast.Broadcasted) at broadcast.jl:886\u001b[39m\n\u001b[91m\u001b[0m  copyto!(\u001b[91m::AbstractArray\u001b[39m, ::Any) at abstractarray.jl:730\u001b[39m",
      "",
      "Stacktrace:",
      " [1] materialize! at ./broadcast.jl:848 [inlined]",
      " [2] materialize! at ./broadcast.jl:845 [inlined]",
      " [3] pauli_vec_mult!(::Array{Complex{Float64},1}, ::Array{Int64,1}, ::Array{Complex{Float64},1}, ::Array{Complex{Float64},1}) at /home/gbarron/new_projects/barren_plateaus/julia/fast_pauli_vec_mult.jl:69",
      " [4] pauli_ansatz_new!(::Array{Array{Int64,1},1}, ::Array{Float64,1}, ::Array{Complex{Float64},1}, ::Array{Complex{Float64},1}, ::Array{Complex{Float64},1}) at /home/gbarron/new_projects/barren_plateaus/julia/simulator.jl:90",
      " [5] top-level scope at In[9]:11",
      " [6] include_string(::Function, ::Module, ::String, ::String) at ./loading.jl:1091"
     ]
    }
   ],
   "source": [
    "n = 15\n",
    "d = 100\n",
    "\n",
    "axes = [[rand(0:3) for j=1:n] for j=1:d]\n",
    "theta = [pi*rand() for j=1:d]\n",
    "\n",
    "# Compiling run\n",
    "result = zeros(ComplexF64, 2^n)\n",
    "tmp1 = zeros(ComplexF64, 2^n)\n",
    "tmp2 = zeros(ComplexF64, 2^n)\n",
    "pauli_ansatz_new!(axes, theta, result, tmp1, tmp2)\n",
    "\n",
    "# Actual run\n",
    "result = zeros(ComplexF64, 2^n)\n",
    "tmp1 = zeros(ComplexF64, 2^n)\n",
    "tmp2 = zeros(ComplexF64, 2^n)\n",
    "@profview pauli_ansatz_new!(axes, theta, result, tmp1, tmp2)"
   ]
  },
  {
   "cell_type": "code",
   "execution_count": 9,
   "metadata": {},
   "outputs": [
    {
     "name": "stdout",
     "output_type": "stream",
     "text": [
      "0 -> 0\n",
      "1 -> 3\n",
      "2 -> 2\n",
      "3 -> 1\n"
     ]
    }
   ],
   "source": [
    "using Printf\n",
    "\n",
    "for i=0:3\n",
    "    inv = mod(i-2*(i%2),4)\n",
    "    @printf(\"%d -> %d\\n\", i, inv)\n",
    "end"
   ]
  }
 ],
 "metadata": {
  "kernelspec": {
   "display_name": "Julia 1.5.1",
   "language": "julia",
   "name": "julia-1.5"
  },
  "language_info": {
   "file_extension": ".jl",
   "mimetype": "application/julia",
   "name": "julia",
   "version": "1.5.1"
  }
 },
 "nbformat": 4,
 "nbformat_minor": 4
}
