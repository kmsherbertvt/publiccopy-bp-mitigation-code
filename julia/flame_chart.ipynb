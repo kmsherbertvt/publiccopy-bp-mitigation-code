{
 "cells": [
  {
   "cell_type": "code",
   "execution_count": 7,
   "metadata": {},
   "outputs": [
    {
     "data": {
      "text/plain": [
       "pauli_ansatz! (generic function with 1 method)"
      ]
     },
     "execution_count": 7,
     "metadata": {},
     "output_type": "execute_result"
    }
   ],
   "source": [
    "using Random\n",
    "import LinearAlgebra: norm\n",
    "using Test\n",
    "using BenchmarkTools\n",
    "using ProfileSVG\n",
    "\n",
    "include(\"fast_pauli_vec_mult.jl\")\n",
    "include(\"simulator.jl\")"
   ]
  },
  {
   "cell_type": "code",
   "execution_count": 8,
   "metadata": {},
   "outputs": [
    {
     "ename": "LoadError",
     "evalue": "\u001b[91mUndefVarError: j not defined\u001b[39m",
     "output_type": "error",
     "traceback": [
      "\u001b[91mUndefVarError: j not defined\u001b[39m",
      "",
      "Stacktrace:",
      " [1] ##core#275() at /home/gbarron/.julia/packages/BenchmarkTools/eCEpo/src/execution.jl:371",
      " [2] ##sample#276(::BenchmarkTools.Parameters) at /home/gbarron/.julia/packages/BenchmarkTools/eCEpo/src/execution.jl:377",
      " [3] _run(::BenchmarkTools.Benchmark{Symbol(\"##benchmark#274\")}, ::BenchmarkTools.Parameters; verbose::Bool, pad::String, kwargs::Base.Iterators.Pairs{Symbol,Integer,NTuple{4,Symbol},NamedTuple{(:samples, :evals, :gctrial, :gcsample),Tuple{Int64,Int64,Bool,Bool}}}) at /home/gbarron/.julia/packages/BenchmarkTools/eCEpo/src/execution.jl:405",
      " [4] (::Base.var\"#inner#2\"{Base.Iterators.Pairs{Symbol,Integer,NTuple{5,Symbol},NamedTuple{(:verbose, :samples, :evals, :gctrial, :gcsample),Tuple{Bool,Int64,Int64,Bool,Bool}}},typeof(BenchmarkTools._run),Tuple{BenchmarkTools.Benchmark{Symbol(\"##benchmark#274\")},BenchmarkTools.Parameters}})() at ./essentials.jl:713",
      " [5] #invokelatest#1 at ./essentials.jl:714 [inlined]",
      " [6] #run_result#37 at /home/gbarron/.julia/packages/BenchmarkTools/eCEpo/src/execution.jl:32 [inlined]",
      " [7] run(::BenchmarkTools.Benchmark{Symbol(\"##benchmark#274\")}, ::BenchmarkTools.Parameters; progressid::Nothing, nleaves::Float64, ndone::Float64, kwargs::Base.Iterators.Pairs{Symbol,Integer,NTuple{5,Symbol},NamedTuple{(:verbose, :samples, :evals, :gctrial, :gcsample),Tuple{Bool,Int64,Int64,Bool,Bool}}}) at /home/gbarron/.julia/packages/BenchmarkTools/eCEpo/src/execution.jl:94",
      " [8] #warmup#45 at /home/gbarron/.julia/packages/BenchmarkTools/eCEpo/src/execution.jl:141 [inlined]",
      " [9] warmup(::BenchmarkTools.Benchmark{Symbol(\"##benchmark#274\")}) at /home/gbarron/.julia/packages/BenchmarkTools/eCEpo/src/execution.jl:141",
      " [10] macro expansion at /home/gbarron/.julia/packages/BenchmarkTools/eCEpo/src/execution.jl:481 [inlined]",
      " [11] pauli_ansatz!(::Array{Array{Int64,1},1}, ::Array{Float64,1}, ::Array{Complex{Float64},1}, ::Array{Complex{Float64},1}) at /home/gbarron/new_projects/barren_plateaus/julia/simulator.jl:95",
      " [12] top-level scope at In[8]:10",
      " [13] include_string(::Function, ::Module, ::String, ::String) at ./loading.jl:1091"
     ]
    }
   ],
   "source": [
    "n = 20\n",
    "d = 100\n",
    "\n",
    "axes = [[rand(0:3) for j=1:n] for j=1:d]\n",
    "theta = [pi*rand() for j=1:d]\n",
    "\n",
    "# Compiling run\n",
    "result = zeros(ComplexF64, 2^n)\n",
    "tmp1 = zeros(ComplexF64, 2^n)\n",
    "pauli_ansatz!(axes, theta, result, tmp1)\n",
    "\n",
    "# Actual run\n",
    "result = zeros(ComplexF64, 2^n)\n",
    "tmp1 = zeros(ComplexF64, 2^n)\n",
    "#@profview pauli_ansatz!(axes, theta, result, tmp1)\n",
    "#@btime pauli_ansatz!(axes, theta, result, tmp1)\n",
    "pauli_ansatz!(axes, theta, result, tmp1)"
   ]
  }
 ],
 "metadata": {
  "kernelspec": {
   "display_name": "Julia 1.5.1",
   "language": "julia",
   "name": "julia-1.5"
  },
  "language_info": {
   "file_extension": ".jl",
   "mimetype": "application/julia",
   "name": "julia",
   "version": "1.5.1"
  }
 },
 "nbformat": 4,
 "nbformat_minor": 4
}
