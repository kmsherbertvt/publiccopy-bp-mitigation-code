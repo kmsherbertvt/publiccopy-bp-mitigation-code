{
 "cells": [
  {
   "cell_type": "code",
   "execution_count": 1,
   "metadata": {},
   "outputs": [
    {
     "data": {
      "text/plain": [
       "pauli_ansatz_new! (generic function with 1 method)"
      ]
     },
     "execution_count": 1,
     "metadata": {},
     "output_type": "execute_result"
    }
   ],
   "source": [
    "using Random\n",
    "import LinearAlgebra: norm\n",
    "using Test\n",
    "using BenchmarkTools\n",
    "using ProfileSVG\n",
    "\n",
    "include(\"fast_pauli_vec_mult.jl\")\n",
    "include(\"simulator.jl\")"
   ]
  },
  {
   "cell_type": "code",
   "execution_count": 6,
   "metadata": {},
   "outputs": [
    {
     "ename": "LoadError",
     "evalue": "\u001b[91mInterruptException:\u001b[39m",
     "output_type": "error",
     "traceback": [
      "\u001b[91mInterruptException:\u001b[39m",
      "",
      "Stacktrace:",
      " [1] Array at ./boot.jl:406 [inlined]",
      " [2] similar at ./array.jl:375 [inlined]",
      " [3] reverse(::Array{Int64,1}, ::Int64, ::Int64) at ./array.jl:1593 (repeats 2 times)",
      " [4] reverse at ./array.jl:1607 [inlined]",
      " [5] pauli_masks(::Array{Int64,1}, ::Array{Int64,1}) at /home/gbarron/new_projects/barren_plateaus/julia/fast_pauli_vec_mult.jl:24",
      " [6] pauli_vec_mult!(::Array{Complex{Float64},1}, ::Array{Int64,1}, ::Array{Int64,1}, ::SortedSet{Int64,Base.Order.ForwardOrdering}) at /home/gbarron/new_projects/barren_plateaus/julia/fast_pauli_vec_mult.jl:91",
      " [7] pauli_ansatz_new!(::Array{Array{Int64,1},1}, ::Array{Float64,1}, ::Array{Complex{Float64},1}, ::Array{Complex{Float64},1}) at /home/gbarron/new_projects/barren_plateaus/julia/simulator.jl:91",
      " [8] top-level scope at In[6]:10",
      " [9] include_string(::Function, ::Module, ::String, ::String) at ./loading.jl:1091"
     ]
    }
   ],
   "source": [
    "n = 20\n",
    "d = 100\n",
    "\n",
    "axes = [[rand(0:3) for j=1:n] for j=1:d]\n",
    "theta = [pi*rand() for j=1:d]\n",
    "\n",
    "# Compiling run\n",
    "result = zeros(ComplexF64, 2^n)\n",
    "tmp1 = zeros(ComplexF64, 2^n)\n",
    "pauli_ansatz_new!(axes, theta, result, tmp1)\n",
    "\n",
    "# Actual run\n",
    "result = zeros(ComplexF64, 2^n)\n",
    "tmp1 = zeros(ComplexF64, 2^n)\n",
    "#@profview pauli_ansatz_new!(axes, theta, result, tmp1)\n",
    "@btime pauli_ansatz_new!(axes, theta, result, tmp1)"
   ]
  }
 ],
 "metadata": {
  "kernelspec": {
   "display_name": "Julia 1.5.1",
   "language": "julia",
   "name": "julia-1.5"
  },
  "language_info": {
   "file_extension": ".jl",
   "mimetype": "application/julia",
   "name": "julia",
   "version": "1.5.1"
  }
 },
 "nbformat": 4,
 "nbformat_minor": 4
}
