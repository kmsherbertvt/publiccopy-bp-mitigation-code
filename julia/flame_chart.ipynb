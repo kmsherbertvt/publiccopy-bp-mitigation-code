{
 "cells": [
  {
   "cell_type": "code",
   "execution_count": 4,
   "metadata": {},
   "outputs": [
    {
     "data": {
      "text/plain": [
       "pauli_ansatz_new! (generic function with 1 method)"
      ]
     },
     "execution_count": 4,
     "metadata": {},
     "output_type": "execute_result"
    }
   ],
   "source": [
    "using Random\n",
    "import LinearAlgebra: norm\n",
    "using Test\n",
    "using BenchmarkTools\n",
    "using ProfileSVG\n",
    "\n",
    "include(\"fast_pauli_vec_mult.jl\")\n",
    "include(\"simulator.jl\")"
   ]
  },
  {
   "cell_type": "code",
   "execution_count": 6,
   "metadata": {},
   "outputs": [
    {
     "name": "stdout",
     "output_type": "stream",
     "text": [
      "  1.231 s (3282300 allocations: 1.12 GiB)\n"
     ]
    }
   ],
   "source": [
    "n = 15\n",
    "d = 100\n",
    "\n",
    "axes = [[rand(0:3) for j=1:n] for j=1:d]\n",
    "theta = [pi*rand() for j=1:d]\n",
    "\n",
    "# Compiling run\n",
    "result = zeros(ComplexF64, 2^n)\n",
    "tmp1 = zeros(ComplexF64, 2^n)\n",
    "pauli_ansatz_new!(axes, theta, result, tmp1)\n",
    "\n",
    "# Actual run\n",
    "result = zeros(ComplexF64, 2^n)\n",
    "tmp1 = zeros(ComplexF64, 2^n)\n",
    "#@profview pauli_ansatz_new!(axes, theta, result, tmp1)\n",
    "@btime pauli_ansatz_new!(axes, theta, result, tmp1)"
   ]
  }
 ],
 "metadata": {
  "kernelspec": {
   "display_name": "Julia 1.5.1",
   "language": "julia",
   "name": "julia-1.5"
  },
  "language_info": {
   "file_extension": ".jl",
   "mimetype": "application/julia",
   "name": "julia",
   "version": "1.5.1"
  }
 },
 "nbformat": 4,
 "nbformat_minor": 4
}
