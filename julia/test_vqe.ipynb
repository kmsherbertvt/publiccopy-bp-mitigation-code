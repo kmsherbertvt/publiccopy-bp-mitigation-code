{
 "cells": [
  {
   "cell_type": "code",
   "execution_count": 1,
   "id": "8e5a6844-53c7-4a3e-9fd6-f368bac286d6",
   "metadata": {},
   "outputs": [],
   "source": [
    "include(\"spin_chains.jl\")\n",
    "include(\"vqe.jl\")\n",
    "using LinearAlgebra"
   ]
  },
  {
   "cell_type": "code",
   "execution_count": 2,
   "id": "cdbaa816-6914-4034-b3ae-2773d3f948ce",
   "metadata": {},
   "outputs": [],
   "source": [
    "L=5;\n",
    "Jxy=1.0;\n",
    "Jz=0.5;\n",
    "PBCs=true;"
   ]
  },
  {
   "cell_type": "code",
   "execution_count": 3,
   "id": "c62a6fba-820c-479b-a5f4-76dfd0bb9d1c",
   "metadata": {},
   "outputs": [
    {
     "name": "stdout",
     "output_type": "stream",
     "text": [
      "-6.280513769031033\n"
     ]
    }
   ],
   "source": [
    "xxzmat = xxz_matrix(L,Jxy,Jz,PBCs)\n",
    "evals = eigvals(xxzmat)\n",
    "println(evals[1])"
   ]
  },
  {
   "cell_type": "code",
   "execution_count": 4,
   "id": "2f877514-279a-4453-ab69-1318b8745e30",
   "metadata": {},
   "outputs": [
    {
     "name": "stdout",
     "output_type": "stream",
     "text": [
      "init state energy: 2.5 + 0.0im\n"
     ]
    },
    {
     "data": {
      "text/plain": [
       "(-5.499999999998555, [2.12933, 2.89607, 0.421569, 1.18438, 1.36154, 1.3769, 0.635414, 1.01723, 1.41958, 1.08868], :ROUNDOFF_LIMITED)"
      ]
     },
     "execution_count": 4,
     "metadata": {},
     "output_type": "execute_result"
    }
   ],
   "source": [
    "xxzham = xxz_model(L,Jxy,Jz,PBCs)\n",
    "\n",
    "ansatz_ops = map(pauli_string_to_pauli,repeat([\"IIXY\",\"XYII\",\"XIYI\",\"XIIY\",\"IXYI\"],2));\n",
    "\n",
    "init_state = zeros(ComplexF64,2^L);\n",
    "init_state[1] = 1.0;\n",
    "\n",
    "tmp_state = zeros(ComplexF64,2^L)\n",
    "print(\"init state energy: \",exp_val(xxzham,init_state,tmp_state),'\\n')\n",
    "\n",
    "opt = Opt(:LN_COBYLA, length(ansatz_ops))\n",
    "init_pt = ones(Float64,length(ansatz_ops))\n",
    "\n",
    "vqe_results = VQE(xxzham,ansatz_ops,opt,init_pt,L,init_state)"
   ]
  },
  {
   "cell_type": "code",
   "execution_count": 5,
   "id": "9a075129-df0d-4570-8b1f-fbf4788b2573",
   "metadata": {},
   "outputs": [
    {
     "name": "stdout",
     "output_type": "stream",
     "text": [
      "energy difference exact - vqe = -0.7805137690324777\n"
     ]
    }
   ],
   "source": [
    "println(\"energy difference exact - vqe = \",evals[1]-vqe_results[1])"
   ]
  },
  {
   "cell_type": "code",
   "execution_count": 8,
   "id": "a08ac31c-4e56-41cc-88b4-c5f2e217cfcd",
   "metadata": {},
   "outputs": [
    {
     "name": "stdout",
     "output_type": "stream",
     "text": [
      "Pauli[Pauli(x=11000, y=00000, z=00000, ph=+1), Pauli(x=00000, y=11000, z=00000, ph=+1), Pauli(x=00000, y=00000, z=11000, ph=+1), Pauli(x=1100, y=0000, z=0000, ph=+1), Pauli(x=0000, y=1100, z=0000, ph=+1), Pauli(x=0000, y=0000, z=1100, ph=+1), Pauli(x=110, y=000, z=000, ph=+1), Pauli(x=000, y=110, z=000, ph=+1), Pauli(x=000, y=000, z=110, ph=+1), Pauli(x=11, y=00, z=00, ph=+1), Pauli(x=00, y=11, z=00, ph=+1), Pauli(x=00, y=00, z=11, ph=+1), Pauli(x=10001, y=00000, z=00000, ph=+1), Pauli(x=00000, y=10001, z=00000, ph=+1), Pauli(x=00000, y=00000, z=10001, ph=+1)]\n"
     ]
    }
   ],
   "source": [
    "println(xxzham.paulis)"
   ]
  },
  {
   "cell_type": "code",
   "execution_count": null,
   "id": "74673d80-0f3a-47b2-88af-071b640abc36",
   "metadata": {},
   "outputs": [],
   "source": []
  }
 ],
 "metadata": {
  "kernelspec": {
   "display_name": "Julia 1.1.1",
   "language": "julia",
   "name": "julia-1.1"
  },
  "language_info": {
   "file_extension": ".jl",
   "mimetype": "application/julia",
   "name": "julia",
   "version": "1.1.1"
  }
 },
 "nbformat": 4,
 "nbformat_minor": 5
}
