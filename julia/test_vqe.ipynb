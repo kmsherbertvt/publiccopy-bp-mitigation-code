{
 "cells": [
  {
   "cell_type": "code",
   "execution_count": 1,
   "id": "8e5a6844-53c7-4a3e-9fd6-f368bac286d6",
   "metadata": {},
   "outputs": [],
   "source": [
    "include(\"spin_chains.jl\")\n",
    "include(\"vqe.jl\")\n",
    "using LinearAlgebra"
   ]
  },
  {
   "cell_type": "code",
   "execution_count": 2,
   "id": "cdbaa816-6914-4034-b3ae-2773d3f948ce",
   "metadata": {},
   "outputs": [],
   "source": [
    "L=4;\n",
    "Jxy=1.0;\n",
    "Jz=0.5;\n",
    "PBCs=true;"
   ]
  },
  {
   "cell_type": "code",
   "execution_count": 3,
   "id": "c62a6fba-820c-479b-a5f4-76dfd0bb9d1c",
   "metadata": {},
   "outputs": [
    {
     "name": "stdout",
     "output_type": "stream",
     "text": [
      "-6.744562646538029\n"
     ]
    }
   ],
   "source": [
    "xxzmat = xxz_matrix(L,Jxy,Jz,PBCs)\n",
    "evals = eigvals(xxzmat)\n",
    "println(evals[1])"
   ]
  },
  {
   "cell_type": "code",
   "execution_count": 4,
   "id": "2f877514-279a-4453-ab69-1318b8745e30",
   "metadata": {},
   "outputs": [
    {
     "name": "stdout",
     "output_type": "stream",
     "text": [
      "init state energy: 2.0 + 0.0im\n"
     ]
    },
    {
     "data": {
      "text/plain": [
       "(-6.744562646537241, [2.95962, 2.49109, 1.52576, 0.82503, 1.0931, 1.10728, 0.467375, 0.7854, 0.459662, 0.87976], :ROUNDOFF_LIMITED)"
      ]
     },
     "execution_count": 4,
     "metadata": {},
     "output_type": "execute_result"
    }
   ],
   "source": [
    "xxzham = xxz_model(L,Jxy,Jz,PBCs)\n",
    "\n",
    "ansatz_ops = map(pauli_string_to_pauli,repeat([\"IIXY\",\"XYII\",\"XIYI\",\"XIIY\",\"IXYI\"],2));\n",
    "\n",
    "init_state = zeros(ComplexF64,2^L);\n",
    "init_state[1] = 1.0;\n",
    "\n",
    "tmp_state = zeros(ComplexF64,2^L)\n",
    "print(\"init state energy: \",exp_val(xxzham,init_state,tmp_state),'\\n')\n",
    "\n",
    "opt = Opt(:LN_COBYLA, length(ansatz_ops))\n",
    "init_pt = ones(Float64,length(ansatz_ops))\n",
    "\n",
    "vqe_results = VQE(xxzham,ansatz_ops,opt,init_pt,L,init_state)"
   ]
  },
  {
   "cell_type": "code",
   "execution_count": 5,
   "id": "9a075129-df0d-4570-8b1f-fbf4788b2573",
   "metadata": {},
   "outputs": [
    {
     "name": "stdout",
     "output_type": "stream",
     "text": [
      "energy difference exact - vqe = -7.878142582740111e-13\n"
     ]
    }
   ],
   "source": [
    "println(\"energy difference exact - vqe = \",evals[1]-vqe_results[1])"
   ]
  },
  {
   "cell_type": "code",
   "execution_count": null,
   "id": "a08ac31c-4e56-41cc-88b4-c5f2e217cfcd",
   "metadata": {},
   "outputs": [],
   "source": []
  }
 ],
 "metadata": {
  "kernelspec": {
   "display_name": "Julia 1.1.1",
   "language": "julia",
   "name": "julia-1.1"
  },
  "language_info": {
   "file_extension": ".jl",
   "mimetype": "application/julia",
   "name": "julia",
   "version": "1.1.1"
  }
 },
 "nbformat": 4,
 "nbformat_minor": 5
}
