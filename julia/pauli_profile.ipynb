{
 "cells": [
  {
   "cell_type": "code",
   "execution_count": 1,
   "metadata": {},
   "outputs": [
    {
     "data": {
      "text/plain": [
       "pauli_string_to_pauli (generic function with 2 methods)"
      ]
     },
     "execution_count": 1,
     "metadata": {},
     "output_type": "execute_result"
    }
   ],
   "source": [
    "include(\"pauli.jl\")"
   ]
  },
  {
   "cell_type": "code",
   "execution_count": 2,
   "metadata": {},
   "outputs": [
    {
     "name": "stdout",
     "output_type": "stream",
     "text": [
      "\u001b[37m\u001b[1mTest Summary:  | \u001b[22m\u001b[39m\u001b[32m\u001b[1mPass  \u001b[22m\u001b[39m\u001b[36m\u001b[1mTotal\u001b[22m\u001b[39m\n",
      "Basic id tests | \u001b[32m   3  \u001b[39m\u001b[36m    3\u001b[39m\n",
      "\u001b[37m\u001b[1mTest Summary:     | \u001b[22m\u001b[39m\u001b[32m\u001b[1mPass  \u001b[22m\u001b[39m\u001b[36m\u001b[1mTotal\u001b[22m\u001b[39m\n",
      "Involved id tests | \u001b[32m   3  \u001b[39m\u001b[36m    3\u001b[39m\n",
      "\u001b[37m\u001b[1mTest Summary:    | \u001b[22m\u001b[39m\u001b[32m\u001b[1mPass  \u001b[22m\u001b[39m\u001b[36m\u001b[1mTotal\u001b[22m\u001b[39m\n",
      "Handworked tests | \u001b[32m   4  \u001b[39m\u001b[36m    4\u001b[39m\n",
      "\u001b[37m\u001b[1mTest Summary:    | \u001b[22m\u001b[39m\u001b[32m\u001b[1mPass  \u001b[22m\u001b[39m\u001b[36m\u001b[1mTotal\u001b[22m\u001b[39m\n",
      "Randomized tests | \u001b[32m 125  \u001b[39m\u001b[36m  125\u001b[39m\n",
      "\u001b[37m\u001b[1mTest Summary:       | \u001b[22m\u001b[39m\u001b[32m\u001b[1mPass  \u001b[22m\u001b[39m\u001b[36m\u001b[1mTotal\u001b[22m\u001b[39m\n",
      "Randomized identity | \u001b[32m  80  \u001b[39m\u001b[36m   80\u001b[39m\n",
      "\u001b[37m\u001b[1mTest Summary:    | \u001b[22m\u001b[39m\u001b[32m\u001b[1mPass  \u001b[22m\u001b[39m\u001b[36m\u001b[1mTotal\u001b[22m\u001b[39m\n",
      "Nilpotent paulis | \u001b[32m  16  \u001b[39m\u001b[36m   16\u001b[39m\n",
      "\u001b[37m\u001b[1mTest Summary:         | \u001b[22m\u001b[39m\u001b[32m\u001b[1mPass  \u001b[22m\u001b[39m\u001b[36m\u001b[1mTotal\u001b[22m\u001b[39m\n",
      "Completely randomized | \u001b[32m  64  \u001b[39m\u001b[36m   64\u001b[39m\n"
     ]
    },
    {
     "data": {
      "text/plain": [
       "Test.DefaultTestSet(\"Completely randomized\", Any[], 64, false)"
      ]
     },
     "execution_count": 2,
     "metadata": {},
     "output_type": "execute_result"
    }
   ],
   "source": [
    "include(\"testing_operators.jl\")"
   ]
  },
  {
   "cell_type": "code",
   "execution_count": 4,
   "metadata": {},
   "outputs": [
    {
     "name": "stdout",
     "output_type": "stream",
     "text": [
      "  94.171 ns (1 allocation: 336 bytes)\n"
     ]
    },
    {
     "data": {
      "text/plain": [
       "([1, 3, 2, 1, 2, 2, 0, 2, 0, 2  …  3, 0, 2, 1, 1, 2, 0, 1, 1, 3], 2)"
      ]
     },
     "execution_count": 4,
     "metadata": {},
     "output_type": "execute_result"
    }
   ],
   "source": [
    "n = 32\n",
    "ps_1 = String(rand(['I', 'X', 'Y', 'Z'], n))\n",
    "ps_2 = String(rand(['I', 'X', 'Y', 'Z'], n))\n",
    "\n",
    "P_1 = pauli_str_to_axes(ps_1)\n",
    "P_2 = pauli_str_to_axes(ps_2)\n",
    "\n",
    "@btime easy_pauli_product(P_1, P_2)"
   ]
  },
  {
   "cell_type": "code",
   "execution_count": 6,
   "metadata": {},
   "outputs": [
    {
     "name": "stdout",
     "output_type": "stream",
     "text": [
      "  23.608 ns (1 allocation: 48 bytes)\n"
     ]
    },
    {
     "data": {
      "text/plain": [
       "Pauli{UInt64}(0xffffffff015b8620, 0x0000000036200052, 0x0000000080003884, 0x0000000048844109, 0x0000000000000000)"
      ]
     },
     "execution_count": 6,
     "metadata": {},
     "output_type": "execute_result"
    }
   ],
   "source": [
    "n = 32\n",
    "ps_1 = String(rand(['I', 'X', 'Y', 'Z'], n))\n",
    "ps_2 = String(rand(['I', 'X', 'Y', 'Z'], n))\n",
    "\n",
    "P_1 = pauli_string_to_pauli(ps_1)\n",
    "P_2 = pauli_string_to_pauli(ps_2)\n",
    "\n",
    "@btime pauli_product(P_1, P_2)"
   ]
  }
 ],
 "metadata": {
  "kernelspec": {
   "display_name": "Julia 1.5.1",
   "language": "julia",
   "name": "julia-1.5"
  },
  "language_info": {
   "file_extension": ".jl",
   "mimetype": "application/julia",
   "name": "julia",
   "version": "1.5.1"
  }
 },
 "nbformat": 4,
 "nbformat_minor": 4
}
