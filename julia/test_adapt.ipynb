{
 "cells": [
  {
   "cell_type": "code",
   "execution_count": 27,
   "id": "d8b86326-facf-4e29-bba8-ea1ab0f97f5b",
   "metadata": {},
   "outputs": [
    {
     "ename": "LoadError",
     "evalue": "LoadError: \u001b[91minvalid redefinition of constant Operator\u001b[39m\nin expression starting at /Users/johnvandyke/postdoc_vt/projects/adapt_vqe_correlated/numerics/bp-mitigation-code/julia/operator.jl:4",
     "output_type": "error",
     "traceback": [
      "LoadError: \u001b[91minvalid redefinition of constant Operator\u001b[39m\nin expression starting at /Users/johnvandyke/postdoc_vt/projects/adapt_vqe_correlated/numerics/bp-mitigation-code/julia/operator.jl:4",
      "",
      "Stacktrace:",
      " [1] top-level scope at none:0",
      " [2] include at ./boot.jl:326 [inlined]",
      " [3] include_relative(::Module, ::String) at ./loading.jl:1038",
      " [4] include(::Module, ::String) at ./sysimg.jl:29",
      " [5] include(::String) at ./client.jl:403",
      " [6] top-level scope at none:0",
      " [7] include at ./boot.jl:326 [inlined]",
      " [8] include_relative(::Module, ::String) at ./loading.jl:1038",
      " [9] include(::Module, ::String) at ./sysimg.jl:29",
      " [10] include(::String) at ./client.jl:403",
      " [11] top-level scope at In[27]:2"
     ]
    }
   ],
   "source": [
    "include(\"spin_chains.jl\")\n",
    "include(\"vqe.jl\")\n",
    "include(\"operator.jl\")\n",
    "using LinearAlgebra\n",
    "using Random"
   ]
  },
  {
   "cell_type": "code",
   "execution_count": 6,
   "id": "b6b43373-4be2-40f9-ba5c-f328d56c906c",
   "metadata": {},
   "outputs": [],
   "source": [
    "L=4;\n",
    "Jxy=1.0;\n",
    "Jz=0.5;\n",
    "PBCs=true;"
   ]
  },
  {
   "cell_type": "code",
   "execution_count": 7,
   "id": "6b1f0515-6250-4d81-971c-39c03f285767",
   "metadata": {},
   "outputs": [
    {
     "name": "stdout",
     "output_type": "stream",
     "text": [
      "-6.744562646538029\n"
     ]
    }
   ],
   "source": [
    "xxzmat = xxz_matrix(L,Jxy,Jz,PBCs)\n",
    "evals = eigvals(xxzmat)\n",
    "println(evals[1])"
   ]
  },
  {
   "cell_type": "code",
   "execution_count": 3,
   "id": "af94fa59-6eaa-4f60-bd3a-d4e3766f8a1f",
   "metadata": {},
   "outputs": [
    {
     "data": {
      "text/plain": [
       "two_local_ansatz (generic function with 2 methods)"
      ]
     },
     "execution_count": 3,
     "metadata": {},
     "output_type": "execute_result"
    }
   ],
   "source": [
    "function two_local_ansatz(n::Int64, d::Int64=2)\n",
    "    res = Array{String,1}()\n",
    "    for _=1:d\n",
    "        for i=1:n\n",
    "            for j=1:n\n",
    "                if i<=j continue end\n",
    "                l = split('I'^n, \"\")\n",
    "                l[i] = \"X\"\n",
    "                l[j] = \"Y\"\n",
    "                s = string(l...)\n",
    "                push!(res, s)\n",
    "                l[i] = \"Z\"\n",
    "                s = string(l...)\n",
    "                push!(res, s)\n",
    "            end\n",
    "        end\n",
    "    end\n",
    "    return res\n",
    "end"
   ]
  },
  {
   "cell_type": "code",
   "execution_count": 25,
   "id": "975f713a-b161-439d-b467-b631caea4c4e",
   "metadata": {},
   "outputs": [
    {
     "data": {
      "text/plain": [
       "12-element Array{Pauli{UInt64},1}:\n",
       " \n",
       " \n",
       " \n",
       " \n",
       " \n",
       " \n",
       " \n",
       " \n",
       " \n",
       " \n",
       " \n",
       " "
      ]
     },
     "execution_count": 25,
     "metadata": {},
     "output_type": "execute_result"
    },
    {
     "name": "stdout",
     "output_type": "stream",
     "text": [
      "Pauli(x=0100, y=1000, z=0000, ph=+1)Pauli(x=0000, y=1000, z=0100, ph=+1)Pauli(x=0010, y=1000, z=0000, ph=+1)Pauli(x=0000, y=1000, z=0010, ph=+1)Pauli(x=010, y=100, z=000, ph=+1)Pauli(x=000, y=100, z=010, ph=+1)Pauli(x=0001, y=1000, z=0000, ph=+1)Pauli(x=0000, y=1000, z=0001, ph=+1)Pauli(x=001, y=100, z=000, ph=+1)Pauli(x=000, y=100, z=001, ph=+1)Pauli(x=01, y=10, z=00, ph=+1)Pauli(x=00, y=10, z=01, ph=+1)Pauli(x=0100, y=1000, z=0000, ph=+1)Pauli(x=0100, y=1000, z=0000, ph=+1)Pauli(x=0000, y=1000, z=0100, ph=+1)Pauli(x=0000, y=1000, z=0100, ph=+1)Pauli(x=0010, y=1000, z=0000, ph=+1)Pauli(x=0010, y=1000, z=0000, ph=+1)Pauli(x=0000, y=1000, z=0010, ph=+1)Pauli(x=0000, y=1000, z=0010, ph=+1)Pauli(x=010, y=100, z=000, ph=+1)Pauli(x=010, y=100, z=000, ph=+1)Pauli(x=000, y=100, z=010, ph=+1)Pauli(x=000, y=100, z=010, ph=+1)Pauli(x=0001, y=1000, z=0000, ph=+1)Pauli(x=0001, y=1000, z=0000, ph=+1)Pauli(x=0000, y=1000, z=0001, ph=+1)Pauli(x=0000, y=1000, z=0001, ph=+1)Pauli(x=001, y=100, z=000, ph=+1)Pauli(x=001, y=100, z=000, ph=+1)Pauli(x=000, y=100, z=001, ph=+1)Pauli(x=000, y=100, z=001, ph=+1)Pauli(x=01, y=10, z=00, ph=+1)Pauli(x=01, y=10, z=00, ph=+1)Pauli(x=00, y=10, z=01, ph=+1)Pauli(x=00, y=10, z=01, ph=+1)"
     ]
    }
   ],
   "source": [
    "map(pauli_string_to_pauli,two_local_ansatz(L, 1))"
   ]
  },
  {
   "cell_type": "code",
   "execution_count": 26,
   "id": "e6fd7f19-065c-4b01-b2c4-ae5421371cf8",
   "metadata": {},
   "outputs": [
    {
     "data": {
      "text/plain": [
       "12-element Array{Pauli,1}:\n",
       " \n",
       " \n",
       " \n",
       " \n",
       " \n",
       " \n",
       " \n",
       " \n",
       " \n",
       " \n",
       " \n",
       " "
      ]
     },
     "execution_count": 26,
     "metadata": {},
     "output_type": "execute_result"
    },
    {
     "name": "stdout",
     "output_type": "stream",
     "text": [
      "Pauli(x=1100, y=0000, z=0000, ph=+1)Pauli(x=0000, y=1100, z=0000, ph=+1)Pauli(x=0000, y=0000, z=1100, ph=+1)Pauli(x=110, y=000, z=000, ph=+1)Pauli(x=000, y=110, z=000, ph=+1)Pauli(x=000, y=000, z=110, ph=+1)Pauli(x=11, y=00, z=00, ph=+1)Pauli(x=00, y=11, z=00, ph=+1)Pauli(x=00, y=00, z=11, ph=+1)Pauli(x=1001, y=0000, z=0000, ph=+1)Pauli(x=0000, y=1001, z=0000, ph=+1)Pauli(x=0000, y=0000, z=1001, ph=+1)Pauli(x=1100, y=0000, z=0000, ph=+1)Pauli(x=1100, y=0000, z=0000, ph=+1)Pauli(x=0000, y=1100, z=0000, ph=+1)Pauli(x=0000, y=1100, z=0000, ph=+1)Pauli(x=0000, y=0000, z=1100, ph=+1)Pauli(x=0000, y=0000, z=1100, ph=+1)Pauli(x=110, y=000, z=000, ph=+1)Pauli(x=110, y=000, z=000, ph=+1)Pauli(x=000, y=110, z=000, ph=+1)Pauli(x=000, y=110, z=000, ph=+1)Pauli(x=000, y=000, z=110, ph=+1)Pauli(x=000, y=000, z=110, ph=+1)Pauli(x=11, y=00, z=00, ph=+1)Pauli(x=11, y=00, z=00, ph=+1)Pauli(x=00, y=11, z=00, ph=+1)Pauli(x=00, y=11, z=00, ph=+1)Pauli(x=00, y=00, z=11, ph=+1)Pauli(x=00, y=00, z=11, ph=+1)Pauli(x=1001, y=0000, z=0000, ph=+1)Pauli(x=1001, y=0000, z=0000, ph=+1)Pauli(x=0000, y=1001, z=0000, ph=+1)Pauli(x=0000, y=1001, z=0000, ph=+1)Pauli(x=0000, y=0000, z=1001, ph=+1)Pauli(x=0000, y=0000, z=1001, ph=+1)"
     ]
    }
   ],
   "source": [
    "xxzham.paulis"
   ]
  },
  {
   "cell_type": "code",
   "execution_count": 22,
   "id": "49425813-e6d9-4600-8875-8c855868f7ac",
   "metadata": {},
   "outputs": [
    {
     "name": "stdout",
     "output_type": "stream",
     "text": [
      "1.0 + 0.0im\n",
      "init state energy: 2.0 + 0.0im\n"
     ]
    },
    {
     "ename": "MethodError",
     "evalue": "\u001b[91mMethodError: no method matching adapt_vqe(::Operator, ::Array{Pauli,1}, ::Int64, ::String, ::Array{Function,1}, ::Array{Complex{Float64},1})\u001b[39m\n\u001b[91m\u001b[0mClosest candidates are:\u001b[39m\n\u001b[91m\u001b[0m  adapt_vqe(::Operator, \u001b[91m::Array{Pauli{T<:Unsigned},1}\u001b[39m, ::Int64, ::String, ::Array{Function,N} where N, ::Union{Nothing, Array{Complex{Float64},1}}) where T<:Unsigned at /Users/johnvandyke/postdoc_vt/projects/adapt_vqe_correlated/numerics/bp-mitigation-code/julia/vqe.jl:99\u001b[39m\n\u001b[91m\u001b[0m  adapt_vqe(::Operator, \u001b[91m::Array{Pauli{T<:Unsigned},1}\u001b[39m, ::Int64, ::String, ::Array{Function,N} where N, ::Union{Nothing, Array{Complex{Float64},1}}, \u001b[91m::Union{Nothing, Array{Complex{Float64},1}}\u001b[39m) where T<:Unsigned at /Users/johnvandyke/postdoc_vt/projects/adapt_vqe_correlated/numerics/bp-mitigation-code/julia/vqe.jl:99\u001b[39m\n\u001b[91m\u001b[0m  adapt_vqe(::Operator, \u001b[91m::Array{Pauli{T<:Unsigned},1}\u001b[39m, ::Int64, ::String, ::Array{Function,N} where N) where T<:Unsigned at /Users/johnvandyke/postdoc_vt/projects/adapt_vqe_correlated/numerics/bp-mitigation-code/julia/vqe.jl:99\u001b[39m",
     "output_type": "error",
     "traceback": [
      "\u001b[91mMethodError: no method matching adapt_vqe(::Operator, ::Array{Pauli,1}, ::Int64, ::String, ::Array{Function,1}, ::Array{Complex{Float64},1})\u001b[39m\n\u001b[91m\u001b[0mClosest candidates are:\u001b[39m\n\u001b[91m\u001b[0m  adapt_vqe(::Operator, \u001b[91m::Array{Pauli{T<:Unsigned},1}\u001b[39m, ::Int64, ::String, ::Array{Function,N} where N, ::Union{Nothing, Array{Complex{Float64},1}}) where T<:Unsigned at /Users/johnvandyke/postdoc_vt/projects/adapt_vqe_correlated/numerics/bp-mitigation-code/julia/vqe.jl:99\u001b[39m\n\u001b[91m\u001b[0m  adapt_vqe(::Operator, \u001b[91m::Array{Pauli{T<:Unsigned},1}\u001b[39m, ::Int64, ::String, ::Array{Function,N} where N, ::Union{Nothing, Array{Complex{Float64},1}}, \u001b[91m::Union{Nothing, Array{Complex{Float64},1}}\u001b[39m) where T<:Unsigned at /Users/johnvandyke/postdoc_vt/projects/adapt_vqe_correlated/numerics/bp-mitigation-code/julia/vqe.jl:99\u001b[39m\n\u001b[91m\u001b[0m  adapt_vqe(::Operator, \u001b[91m::Array{Pauli{T<:Unsigned},1}\u001b[39m, ::Int64, ::String, ::Array{Function,N} where N) where T<:Unsigned at /Users/johnvandyke/postdoc_vt/projects/adapt_vqe_correlated/numerics/bp-mitigation-code/julia/vqe.jl:99\u001b[39m",
      "",
      "Stacktrace:",
      " [1] top-level scope at In[22]:36"
     ]
    }
   ],
   "source": [
    "xxzham = xxz_model(L,Jxy,Jz,PBCs)\n",
    "\n",
    "# ansatz_ops = map(pauli_string_to_pauli,[\"IIXY\",\"XYII\",\"XIYI\",\"XIIY\",\"IXYI\",\"IXIY\"]);\n",
    "# ansatz_ops = map(pauli_string_to_pauli,two_local_ansatz(L, 1));\n",
    "ansatz_ops = xxzham.paulis\n",
    "\n",
    "init_state = zeros(ComplexF64,2^L);\n",
    "init_state[1] = 1.0;\n",
    "\n",
    "Random.seed!(1234)\n",
    "rstate = rand!(zeros(ComplexF64,2^L))\n",
    "rstate = rstate/sqrt(dot(rstate,rstate))\n",
    "println(dot(rstate,rstate))\n",
    "\n",
    "tmp_state = zeros(ComplexF64,2^L);\n",
    "print(\"init state energy: \",exp_val(xxzham,init_state,tmp_state),'\\n')\n",
    "\n",
    "optimizer = \"LN_COBYLA\"\n",
    "init_pt = ones(Float64,length(ansatz_ops));\n",
    "\n",
    "function maxiter_callback(hist::ADAPTHistory)\n",
    "    if length(hist.energy) >= 5\n",
    "        return true\n",
    "    else\n",
    "        return false\n",
    "    end\n",
    "end\n",
    "\n",
    "function err_callback(hist::ADAPTHistory)\n",
    "    if abs(-6.744562646538029 - hist.energy[end]) < 0.01\n",
    "        return true\n",
    "    else\n",
    "        return false\n",
    "    end\n",
    "end\n",
    "\n",
    "adapt_results = adapt_vqe(xxzham,ansatz_ops,L,optimizer,Function[maxiter_callback,err_callback],rstate)"
   ]
  },
  {
   "cell_type": "code",
   "execution_count": 13,
   "id": "edc810e5-8919-4df5-8606-046053801657",
   "metadata": {},
   "outputs": [
    {
     "data": {
      "text/plain": [
       "20-element Array{Float64,1}:\n",
       "  2.569187838203773   \n",
       " -0.005100097625580141\n",
       " -0.9659905326879719  \n",
       " -0.5908077634496991  \n",
       " -3.627504696320127   \n",
       " -3.8621667926270584  \n",
       " -4.0563958113104235  \n",
       " -4.859303492672034   \n",
       " -5.140488225058578   \n",
       " -5.292143660361125   \n",
       " -5.153739752366219   \n",
       " -5.795145259573981   \n",
       " -5.961657704180878   \n",
       " -6.025894778424202   \n",
       " -6.042123024203386   \n",
       " -6.06784351974295    \n",
       " -6.053725920275532   \n",
       " -6.117560820608681   \n",
       " -6.052788405534632   \n",
       " -5.867055095674464   "
      ]
     },
     "execution_count": 13,
     "metadata": {},
     "output_type": "execute_result"
    }
   ],
   "source": [
    "adapt_results.energy"
   ]
  },
  {
   "cell_type": "code",
   "execution_count": 19,
   "id": "69bddcf1-cbe7-469f-afe1-0677c4d6e683",
   "metadata": {},
   "outputs": [
    {
     "data": {
      "text/plain": [
       "3-element Array{Float64,1}:\n",
       " 1.5701152315936993\n",
       " 0.766702985209428 \n",
       " 1.7971734855111003"
      ]
     },
     "execution_count": 19,
     "metadata": {},
     "output_type": "execute_result"
    }
   ],
   "source": [
    "adapt_results.max_grad"
   ]
  },
  {
   "cell_type": "code",
   "execution_count": 12,
   "id": "992a101f-bf43-4195-b8e1-7005bce7be29",
   "metadata": {},
   "outputs": [
    {
     "data": {
      "text/plain": [
       "3-element Array{Int64,1}:\n",
       " 5\n",
       " 5\n",
       " 4"
      ]
     },
     "execution_count": 12,
     "metadata": {},
     "output_type": "execute_result"
    }
   ],
   "source": [
    "adapt_results.max_grad_ind"
   ]
  },
  {
   "cell_type": "code",
   "execution_count": null,
   "id": "c1bbb85a-2337-4896-aed2-51a711871559",
   "metadata": {},
   "outputs": [],
   "source": [
    "println(\"energies: \",adapt_results.energy)\n",
    "# println(\"energy difference exact - vqe = \",evals[1]-vqe_results[1])"
   ]
  },
  {
   "cell_type": "code",
   "execution_count": 13,
   "id": "6f7b2de6-6952-421e-ab6c-c003ca17ed4a",
   "metadata": {},
   "outputs": [
    {
     "name": "stdout",
     "output_type": "stream",
     "text": [
      "Operator(Pauli[Pauli(x=1100, y=0000, z=0000, ph=+1), Pauli(x=0000, y=1100, z=0000, ph=+1), Pauli(x=0000, y=0000, z=1100, ph=+1), Pauli(x=110, y=000, z=000, ph=+1), Pauli(x=000, y=110, z=000, ph=+1), Pauli(x=000, y=000, z=110, ph=+1), Pauli(x=11, y=00, z=00, ph=+1), Pauli(x=00, y=11, z=00, ph=+1), Pauli(x=00, y=00, z=11, ph=+1), Pauli(x=1001, y=0000, z=0000, ph=+1), Pauli(x=0000, y=1001, z=0000, ph=+1), Pauli(x=0000, y=0000, z=1001, ph=+1)], Complex{Float64}[1.0+0.0im, 1.0+0.0im, 0.5+0.0im, 1.0+0.0im, 1.0+0.0im, 0.5+0.0im, 1.0+0.0im, 1.0+0.0im, 0.5+0.0im, 1.0+0.0im, 1.0+0.0im, 0.5+0.0im])\n",
      "Pauli{UInt64}[Pauli(x=10, y=01, z=00, ph=+1), Pauli(x=1000, y=0100, z=0000, ph=+1), Pauli(x=1000, y=0010, z=0000, ph=+1), Pauli(x=1000, y=0001, z=0000, ph=+1), Pauli(x=100, y=010, z=000, ph=+1), Pauli(x=10, y=01, z=00, ph=+1), Pauli(x=1000, y=0100, z=0000, ph=+1), Pauli(x=1000, y=0010, z=0000, ph=+1), Pauli(x=1000, y=0001, z=0000, ph=+1), Pauli(x=100, y=010, z=000, ph=+1)]\n",
      "Opt(LN_COBYLA, 10)\n",
      "[1.0, 1.0, 1.0, 1.0, 1.0, 1.0, 1.0, 1.0, 1.0, 1.0]\n",
      "4\n",
      "Complex{Float64}[1.0+0.0im, 0.0+0.0im, 0.0+0.0im, 0.0+0.0im, 0.0+0.0im, 0.0+0.0im, 0.0+0.0im, 0.0+0.0im, 0.0+0.0im, 0.0+0.0im, 0.0+0.0im, 0.0+0.0im, 0.0+0.0im, 0.0+0.0im, 0.0+0.0im, 0.0+0.0im]\n"
     ]
    },
    {
     "data": {
      "text/plain": [
       "(-6.744562646537241, [2.95962, 2.49109, 1.52576, 0.82503, 1.0931, 1.10728, 0.467375, 0.7854, 0.459662, 0.87976], :ROUNDOFF_LIMITED)"
      ]
     },
     "execution_count": 13,
     "metadata": {},
     "output_type": "execute_result"
    }
   ],
   "source": [
    "println(xxzham,'\\n',ansatz_ops,'\\n',opt,'\\n', init_pt,'\\n', L,'\\n', init_state)\n",
    "vqe_results = VQE(xxzham,ansatz_ops,opt,init_pt,L,init_state)"
   ]
  },
  {
   "cell_type": "code",
   "execution_count": 18,
   "id": "8fe5cf2f-5a1a-4631-8efc-b6098463cc8a",
   "metadata": {},
   "outputs": [
    {
     "name": "stdout",
     "output_type": "stream",
     "text": [
      "-1.249000902703301e-16 - 1.1522231774968592im\n",
      "-2.7755575615628914e-17 - 0.357659724483542im\n",
      "5.551115123125783e-17 - 0.6864200491989852im\n",
      "9.020562075079397e-17 + 1.4073026961179929im\n",
      "-5.551115123125783e-17 + 1.6099438559163985im\n",
      "-8.326672684688674e-17 + 0.41797747313422473im\n",
      "0.0 - 0.8834243975411237im\n",
      "-5.551115123125783e-17 + 0.9428045672130075im\n",
      "1.3877787807814457e-17 + 1.3962123467517746im\n",
      "2.7755575615628914e-17 + 0.7972540600847877im\n",
      "0.0 - 1.664689408099184im\n",
      "0.0 + 0.8655557935571071im\n"
     ]
    }
   ],
   "source": [
    "for op in ansatz_ops\n",
    "    com=commutator(xxzham,Operator([op],[1.0]))\n",
    "    println(exp_val(com,rstate,tmp_state))\n",
    "end"
   ]
  },
  {
   "cell_type": "code",
   "execution_count": 17,
   "id": "89cc844e-457d-4eb5-8e34-320a6a93dc6a",
   "metadata": {},
   "outputs": [
    {
     "name": "stdout",
     "output_type": "stream",
     "text": [
      "Pauli(x=1111, y=0000, z=0000, ph=+1)\n",
      "XXXX 0.0 + 0.0im\n"
     ]
    }
   ],
   "source": [
    "p_op = pauli_string_to_pauli(\"XXXX\")\n",
    "println(p_op)\n",
    "com=commutator(xxzham,Operator([p_op],[1.0]))\n",
    "grad = exp_val(com,rstate,tmp_state)\n",
    "print(\"XXXX\",' ',grad,'\\n')"
   ]
  },
  {
   "cell_type": "code",
   "execution_count": 19,
   "id": "5d95c178-7f6c-400e-8509-92fed596617b",
   "metadata": {},
   "outputs": [
    {
     "name": "stdout",
     "output_type": "stream",
     "text": [
      "IIII 0.0 + 0.0im\n",
      "XIII 1.5469850564750835e-17 - 0.0838902747789112im\n",
      "YIII -5.551115123125783e-17 - 1.004714863876261im\n",
      "ZIII -1.734723475976807e-18 - 0.4045180294371341im\n",
      "IXII -2.5855247770106127e-17 + 0.25969835238617095im\n",
      "XXII 1.214306433183765e-17 + 0.4584646882661378im\n",
      "YXII -9.71445146547012e-17 - 1.0024714143216054im\n",
      "ZXII -5.975045583693241e-17 - 0.8877069392801973im\n",
      "IYII 5.551115123125783e-17 + 1.429134790160656im\n",
      "XYII -3.469446951953614e-17 + 1.5701152315936988im\n",
      "YYII -3.209238430557093e-17 - 0.03284802526386732im\n",
      "ZYII 2.7755575615628914e-17 + 0.08684114073451943im\n",
      "IZII 3.469446951953614e-18 + 0.3967797745742878im\n",
      "XZII 2.3729114060586586e-17 + 0.5584256512890586im\n",
      "YZII -2.7755575615628914e-17 - 0.3576597244835421im\n",
      "ZZII 0.0 - 0.34563475170402114im\n",
      "IIXI 0.0 - 0.28278968471129773im\n",
      "XIXI -2.0816681711721685e-17 - 0.23210482665733911im\n",
      "YIXI 5.551115123125783e-17 - 0.9389278948482063im\n",
      "ZIXI -1.3877787807814457e-17 - 0.2300393508532384im\n",
      "IXXI 3.122502256758253e-17 - 0.041352130540758036im\n",
      "XXXI -2.42861286636753e-17 - 0.21838262291620775im\n",
      "YXXI 6.938893903907228e-18 - 0.5292549728666963im\n",
      "ZXXI 3.469446951953614e-17 - 0.5157344601672191im\n",
      "IYXI -5.551115123125783e-17 + 1.609943855916398im\n",
      "XYXI 9.020562075079397e-17 + 1.427817434514063im\n",
      "YYXI 2.889032080473688e-17 - 0.1844194674720976im\n",
      "ZYXI -8.326672684688674e-17 - 0.09175678575865204im\n",
      "IZXI 2.7755575615628914e-17 + 0.44805086816230705im\n",
      "XZXI 3.469446951953614e-17 + 0.5786690817924511im\n",
      "YZXI 6.938893903907228e-18 - 0.8470096312475534im\n",
      "ZZXI -2.7755575615628914e-17 - 0.05456240380473726im\n",
      "IIYI 0.0 - 1.2419054815577044im\n",
      "XIYI 2.7755575615628914e-17 - 1.1325321061912879im\n",
      "YIYI 3.122502256758253e-17 + 1.601135613608786im\n",
      "ZIYI 4.163336342344337e-17 + 1.274268604673989im\n",
      "IXYI -5.551115123125783e-17 - 1.816791291666746im\n",
      "XXYI -7.632783294297951e-17 - 1.579096759819312im\n",
      "YXYI -3.496185297065571e-17 + 1.678022606359557im\n",
      "ZXYI -1.3877787807814457e-17 + 1.943616233285859im\n",
      "IYYI -1.3877787807814457e-17 - 0.8866330374404376im\n",
      "XYYI 4.336808689942018e-18 - 1.0352966818987392im\n",
      "YYYI -6.938893903907228e-18 - 0.49542809355489204im\n",
      "ZYYI 1.734723475976807e-17 + 0.14774566632298136im\n",
      "IZYI -1.3877787807814457e-17 + 0.07054356739983014im\n",
      "XZYI 4.163336342344337e-17 - 0.3776124470472611im\n",
      "YZYI 6.938893903907228e-18 + 0.3853384004721998im\n",
      "ZZYI -4.163336342344337e-17 + 0.9773181792971914im\n",
      "IIZI 0.0 - 0.3186933059826219im\n",
      "XIZI -4.3132368021327126e-17 - 0.31705451861510103im\n",
      "YIZI 8.326672684688674e-17 + 1.4592158028659672im\n",
      "ZIZI -1.0408340855860843e-17 - 1.1192354640041717im\n",
      "IXZI 6.512151423383733e-18 - 0.5205986398139859im\n",
      "XXZI -1.5612511283791264e-17 - 0.16360759828108448im\n",
      "YXZI 3.469446951953614e-17 + 1.3361544278708153im\n",
      "ZXZI 4.098249559578774e-17 - 1.1232483516356808im\n",
      "IYZI -8.326672684688674e-17 + 0.4179774731342249im\n",
      "XYZI -1.1102230246251565e-16 + 0.4756208593739155im\n",
      "YYZI -6.938893903907228e-18 + 0.2935134480177787im\n",
      "ZYZI -5.551115123125783e-17 + 0.4503403195378185im\n",
      "IZZI 3.469446951953614e-18 + 1.2526707617353698im\n",
      "XZZI -6.610306222350661e-17 + 0.9909709747589411im\n",
      "YZZI 4.85722573273506e-17 + 0.7785622389412956im\n",
      "ZZZI -3.469446951953614e-17 - 0.5380253767379841im\n",
      "IIIX -2.5422266796977718e-18 - 0.1412330042518931im\n",
      "XIIX 6.938893903907228e-18 + 0.1600074391004187im\n",
      "YIIX 0.0 - 0.8834243975411238im\n",
      "ZIIX -5.975045583693241e-17 - 0.26604447637277007im\n",
      "IXIX 3.469446951953614e-18 + 0.13999619156512189im\n",
      "XXIX -3.469446951953614e-17 - 0.017318766309271982im\n",
      "YXIX -2.7755575615628914e-17 - 1.2996705307101846im\n",
      "ZXIX -3.469446951953614e-18 - 0.30861164539971997im\n",
      "IYIX 1.3877787807814457e-17 + 1.5367239987855457im\n",
      "XYIX 0.0 + 2.1627519770929178im\n",
      "YYIX -4.683753385137379e-17 + 0.38127297608072397im\n",
      "ZYIX -2.7755575615628914e-17 + 0.26034211031261056im\n",
      "IZIX 5.392559113920261e-17 + 0.7327832818334161im\n",
      "XZIX -3.469446951953614e-17 + 0.9096215657768847im\n",
      "YZIX -2.0816681711721685e-17 - 0.5086335947255398im\n",
      "ZZIX -2.5855247770106127e-17 + 0.017620792509545014im\n",
      "IIXX 1.0408340855860843e-17 + 0.008191042942220172im\n",
      "XIXX -1.734723475976807e-18 + 0.15014068005546577im\n",
      "YIXX 6.938893903907228e-18 - 0.8308407659432555im\n",
      "ZIXX 3.469446951953614e-17 - 0.3415555991985084im\n",
      "IXXX 1.3877787807814457e-17 + 0.14845407478061962im\n",
      "XXXX 0.0 + 0.0im\n",
      "YXXX 0.0 - 1.303559045768854im\n",
      "ZXXX 0.0 - 0.42867956337459034im\n",
      "IYXX -1.3877787807814457e-17 + 1.3606935210031548im\n",
      "XYXX -5.551115123125783e-17 + 1.730479479679937im\n",
      "YYXX 6.938893903907228e-18 + 0.0049030092441091355im\n",
      "ZYXX 1.3877787807814457e-17 - 0.10519740323691831im\n",
      "IZXX 6.938893903907228e-18 + 0.616692048283586im\n",
      "XZXX 6.938893903907228e-17 + 0.6760176906450461im\n",
      "YZXX -1.3877787807814457e-17 - 0.15279029432178182im\n",
      "ZZXX 3.122502256758253e-17 - 0.0242653882570794im\n",
      "IIYX 0.0 - 1.39760461441293im\n",
      "XIYX -7.632783294297951e-17 - 1.5277210376735395im\n",
      "YIYX -3.565860809932244e-17 + 1.2907214646481242im\n",
      "ZIYX 2.7755575615628914e-17 + 0.9024853511623531im\n",
      "IXYX -2.7755575615628914e-17 - 1.400455402453752im\n",
      "XXYX -1.1102230246251565e-16 - 1.592691742113166im\n",
      "YXYX 0.0 + 1.533255092542791im\n",
      "ZXYX 6.938893903907228e-17 + 1.2948851935165062im\n",
      "IYYX 2.6020852139652106e-17 - 0.8160193289739908im\n",
      "XYYX 0.0 - 1.95814479010203im\n",
      "YYYX 0.0 - 0.8516851101763532im\n",
      "ZYYX 2.2551405187698492e-17 - 0.3360555634261928im\n",
      "IZYX -4.163336342344337e-17 + 0.00567045141569375im\n",
      "XZYX -1.249000902703301e-16 - 0.49870872025159363im\n",
      "YZYX -2.1975499323253407e-17 + 0.715422271808224im\n",
      "ZZYX -5.551115123125783e-17 + 0.7986024689388976im\n",
      "IIZX -2.580665159243495e-19 - 0.42548450708347296im\n",
      "XIZX -1.734723475976807e-17 - 0.5975178582323275im\n",
      "YIZX 1.734723475976807e-17 + 1.9839520740462289im\n",
      "ZIZX 5.63715824859597e-18 - 1.3242629409148237im\n",
      "IXZX 1.0408340855860843e-17 - 0.4912094108318995im\n",
      "XXZX -1.0408340855860843e-16 - 0.29256542719265044im\n",
      "YXZX 5.551115123125783e-17 + 1.5078634265633528im\n",
      "ZXZX 3.469446951953614e-18 - 1.311462599817225im\n",
      "IYZX 2.42861286636753e-17 + 0.38170334166780434im\n",
      "XYZX 0.0 - 0.04885574195055174im\n",
      "YYZX -1.9081958235744878e-17 + 0.4562793813729198im\n",
      "ZYZX 5.551115123125783e-17 + 0.8255550255125488im\n",
      "IZZX -2.6086699687541753e-17 + 1.235483007520986im\n",
      "XZZX 1.0408340855860843e-17 + 1.130745779464766im\n",
      "YZZX -7.632783294297951e-17 + 0.3323896328821119im\n",
      "ZZZX 6.512151423383733e-18 - 0.6586566806198542im\n",
      "IIIY 5.551115123125783e-17 + 1.1786194594011596im\n",
      "XIIY 3.469446951953614e-17 + 0.4083167610992341im\n",
      "YIIY -6.938893903907228e-18 - 1.373815576391631im\n",
      "ZIIY 0.0 + 1.1552786237485437im\n",
      "IXIY 9.71445146547012e-17 + 1.3385762102793235im\n",
      "XXIY 2.7755575615628914e-17 + 0.4536697947599214im\n",
      "YXIY 3.122502256758253e-17 - 1.6241213414603792im\n",
      "ZXIY 0.0 + 0.7121934571174906im\n",
      "IYIY 0.0 + 1.547111596579069im\n",
      "XYIY -4.85722573273506e-17 + 1.465668049129777im\n",
      "YYIY 2.0816681711721685e-17 - 0.11178376971129561im\n",
      "ZYIY 0.0 + 0.9075439800382197im\n",
      "IZIY 5.551115123125783e-17 + 0.80185914359909im\n",
      "XZIY -1.214306433183765e-17 + 1.3898064486970905im\n",
      "YZIY -3.8163916471489756e-17 + 0.9970986824292513im\n",
      "ZZIY 5.551115123125783e-17 + 0.5984195847988605im\n",
      "IIXY 5.551115123125783e-17 + 1.1030121695371964im\n",
      "XIXY 7.28583859910259e-17 + 0.7786283886875912im\n",
      "YIXY 2.806884636775958e-17 - 1.3992081524638573im\n",
      "ZIXY -8.326672684688674e-17 + 1.383845610907241im\n",
      "IXXY -3.469446951953614e-18 + 0.6427088549772951im\n",
      "XXXY 1.1102230246251565e-16 + 0.9773402832378374im\n",
      "YXXY -5.204170427930421e-18 - 1.4457414407848102im\n",
      "ZXXY 2.7755575615628914e-17 + 1.2260939884790154im\n",
      "IYXY -4.163336342344337e-17 + 1.8356506041574914im\n",
      "XYXY 1.3877787807814457e-17 + 1.604679783713291im\n",
      "YYXY 2.0816681711721685e-17 - 0.18580683102744278im\n",
      "ZYXY -1.3877787807814457e-17 + 0.7120330784215569im\n",
      "IZXY 0.0 + 1.0253271915088318im\n",
      "XZXY 1.1102230246251565e-16 + 1.1338907440491033im\n",
      "YZXY -3.353565190800442e-17 + 0.39223104394053754im\n",
      "ZZXY -5.551115123125783e-17 + 0.29956119727645025im\n",
      "IIYY -1.3877787807814457e-17 + 0.2523323448903776im\n",
      "XIYY 4.85722573273506e-17 + 0.7731091694477281im\n",
      "YIYY 1.0408340855860843e-17 + 0.5699872606157111im\n",
      "ZIYY 1.3877787807814457e-17 - 0.9420716362811272im\n",
      "IXYY 6.938893903907228e-18 + 0.1718415209252666im\n",
      "XXYY -1.3877787807814457e-17 + 0.27672138674932817im\n",
      "YXYY -1.3877787807814457e-17 + 0.541389213907775im\n",
      "ZXYY 3.469446951953614e-18 - 0.9971390848242072im\n",
      "IYYY -2.7755575615628914e-17 + 0.4608787888746859im\n",
      "XYYY 0.0 + 0.600035520897148im\n",
      "YYYY 0.0 + 0.0im\n",
      "ZYYY -2.7755575615628914e-17 + 0.05009468455598633im\n",
      "IZYY 6.938893903907228e-18 - 0.5060749924142244im\n",
      "XZYY -5.551115123125783e-17 - 1.1955752164542965im\n",
      "YZYY 2.7755575615628914e-17 - 0.32307183798999695im\n",
      "ZZYY -1.3877787807814457e-17 - 0.38095670464187903im\n",
      "IIZY -1.3877787807814457e-17 + 0.5149549438227005im\n",
      "XIZY -6.591949208711867e-17 + 0.4053131908148001im\n",
      "YIZY 2.0816681711721685e-17 - 1.2994936632881293im\n",
      "ZIZY -5.551115123125783e-17 - 0.6232054514755146im\n",
      "IXZY -4.163336342344337e-17 + 0.3380355383994592im\n",
      "XXZY 2.7755575615628914e-17 + 0.3971551236697422im\n",
      "YXZY 3.469446951953614e-17 - 0.9046826235096572im\n",
      "ZXZY -5.551115123125783e-17 - 0.5472129759656672im\n",
      "IYZY -4.163336342344337e-17 - 0.6834089203580713im\n",
      "XYZY 4.163336342344337e-17 - 0.49048836235458637im\n",
      "YYZY -2.7755575615628914e-17 - 0.02104420119452116im\n",
      "ZYZY -1.3877787807814457e-17 - 0.05756818713422193im\n",
      "IZZY -5.551115123125783e-17 - 0.6000243195201548im\n",
      "XZZY -2.7755575615628914e-17 - 0.8108808578546738im\n",
      "YZZY -2.42861286636753e-17 + 0.2567243635726196im\n",
      "ZZZY -8.326672684688674e-17 - 0.07427419585502437im\n",
      "IIIZ 0.0 + 0.3293481276919381im\n",
      "XIIZ 4.308957959787582e-17 - 0.10020994969249244im\n",
      "YIIZ -5.551115123125783e-17 + 0.9428045672130076im\n",
      "ZIIZ 3.469446951953614e-18 + 2.2471654807342025im\n",
      "IXIZ 5.392559113920261e-17 + 0.6212577641464258im\n",
      "XXIZ -1.214306433183765e-17 + 0.8471487791414055im\n",
      "YXIZ -4.163336342344337e-17 + 0.8417391956226488im\n",
      "ZXIZ -5.0844533593955436e-18 + 1.7121587357300119im\n",
      "IYIZ 2.7755575615628914e-17 + 0.8148711526702729im\n",
      "XYIZ 3.469446951953614e-17 + 0.7111084486451253im\n",
      "YYIZ -3.642919299551295e-17 + 0.492633650350019im\n",
      "ZYIZ 5.551115123125783e-17 + 0.7490338308835358im\n",
      "IZIZ -3.469446951953614e-18 - 1.768904089304635im\n",
      "XZIZ 9.873657741163757e-17 - 1.5322395575994163im\n",
      "YZIZ -4.85722573273506e-17 + 0.40673943654521905im\n",
      "ZZIZ 0.0 - 0.8100973376209943im\n",
      "IIXZ -1.3877787807814457e-17 + 0.86955864013499im\n",
      "XIXZ -6.938893903907228e-18 + 0.6857291857517844im\n",
      "YIXZ 8.673617379884035e-17 + 0.9770900810369854im\n",
      "ZIXZ 0.0 + 1.4385066237408581im\n",
      "IXXZ 3.469446951953614e-18 + 0.5834597029669516im\n",
      "XXXZ 6.591949208711867e-17 + 0.9788500295098324im\n",
      "YXXZ -6.938893903907228e-18 + 0.8244971967105201im\n",
      "ZXXZ 1.0408340855860843e-17 + 1.1297028343673026im\n",
      "IYXZ 0.0 + 1.4717353539404272im\n",
      "XYXZ 4.85722573273506e-17 + 0.7120696915759666im\n",
      "YYXZ -2.3825996825532834e-17 + 0.6652670007170411im\n",
      "ZYXZ 5.551115123125783e-17 + 0.09214774255168318im\n",
      "IZXZ 2.7755575615628914e-17 - 1.989254377179805im\n",
      "XZXZ -3.469446951953614e-17 - 1.8367846103706296im\n",
      "YZXZ 2.7755575615628914e-17 + 0.8127100808617008im\n",
      "ZZXZ 0.0 - 0.7237971192704168im\n",
      "IIYZ 0.0 + 0.49603305157715405im\n",
      "XIYZ 2.0816681711721685e-17 + 0.5268454182073752im\n",
      "YIYZ 3.469446951953614e-18 - 0.9181787990052438im\n",
      "ZIYZ -1.3877787807814457e-17 - 0.9589447677091275im\n",
      "IXYZ 0.0 - 0.019360011426895356im\n",
      "XXYZ -8.673617379884035e-17 + 0.05341936867843655im\n",
      "YXYZ -1.1735834431991711e-17 - 0.7319318876921117im\n",
      "ZXYZ 0.0 - 0.608936272646633im\n",
      "IYYZ 6.938893903907228e-18 - 0.47854320395238986im\n",
      "XYYZ -3.903127820947816e-17 - 0.5847046116649329im\n",
      "YYYZ -2.0816681711721685e-17 + 0.003064615935935419im\n",
      "ZYYZ -1.3877787807814457e-17 - 0.3753796721322802im\n",
      "IZYZ 5.551115123125783e-17 - 0.08672668920146505im\n",
      "XZYZ 1.3877787807814457e-16 - 0.279463957459004im\n",
      "YZYZ 3.122502256758253e-17 + 0.06788052106599485im\n",
      "ZZYZ 0.0 + 0.12399514408235608im\n",
      "IIZZ 6.938893903907228e-18 - 0.2899910378217833im\n",
      "XIZZ 3.1041452431194577e-17 - 0.35848533952330724im\n",
      "YIZZ 5.551115123125783e-17 - 0.5146745752356383im\n",
      "ZIZZ 3.469446951953614e-18 + 0.25407836615879875im\n",
      "IXZZ -5.3842275303170666e-17 - 0.3179734024680115im\n",
      "XXZZ 1.5612511283791264e-17 - 0.28257259730835216im\n",
      "YXZZ 2.0816681711721685e-17 - 0.2251767991922669im\n",
      "ZXZZ -2.580665159243495e-19 + 0.5630533044927589im\n",
      "IYZZ -5.551115123125783e-17 - 0.5130620804629515im\n",
      "XYZZ -1.3877787807814457e-17 - 0.5693982420870469im\n",
      "YYZZ -8.673617379884035e-18 + 0.039198634907158525im\n",
      "ZYZZ -2.7755575615628914e-17 - 0.16081017837696981im\n",
      "IZZZ 3.122502256758253e-17 + 0.8559250252073488im\n",
      "XZZZ -3.1270424537296922e-18 + 0.7853444347719656im\n",
      "YZZZ 5.551115123125783e-17 - 0.02760342250286424im\n",
      "ZZZZ 0.0 + 0.0im\n"
     ]
    }
   ],
   "source": [
    "pvals = \"IXYZ\"\n",
    "allplus = (1/sqrt(2^L))*ones(ComplexF64,2^L)\n",
    "Random.seed!(1234)\n",
    "rstate = rand!(zeros(ComplexF64,2^L))\n",
    "rstate = rstate/sqrt(dot(rstate,rstate))\n",
    "for (a,b,c,d) in Iterators.product(1:4,1:4,1:4,1:4)\n",
    "    pstr = pvals[a]*pvals[b]*pvals[c]*pvals[d]\n",
    "    p_op = pauli_string_to_pauli(pstr)\n",
    "    com=commutator(xxzham,Operator([p_op],[1.0]))\n",
    "    grad = exp_val(com,rstate,tmp_state)\n",
    "    print(pstr,' ',grad,'\\n')\n",
    "end"
   ]
  },
  {
   "cell_type": "code",
   "execution_count": null,
   "id": "f93a4038-b1d6-4ee3-9f3e-df21d250b64d",
   "metadata": {},
   "outputs": [],
   "source": []
  }
 ],
 "metadata": {
  "kernelspec": {
   "display_name": "Julia 1.1.1",
   "language": "julia",
   "name": "julia-1.1"
  },
  "language_info": {
   "file_extension": ".jl",
   "mimetype": "application/julia",
   "name": "julia",
   "version": "1.1.1"
  }
 },
 "nbformat": 4,
 "nbformat_minor": 5
}
