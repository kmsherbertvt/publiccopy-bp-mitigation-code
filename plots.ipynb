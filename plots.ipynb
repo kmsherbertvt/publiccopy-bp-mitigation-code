{
 "cells": [
  {
   "cell_type": "code",
   "execution_count": 1,
   "metadata": {},
   "outputs": [],
   "source": [
    "import pandas as pd\n",
    "import seaborn as sns\n",
    "import glob, os\n",
    "import numpy as np\n",
    "\n",
    "import matplotlib as mpl\n",
    "mpl.rcParams['font.family'] = 'serif'\n",
    "font_path = mpl.get_data_path() + '/fonts/ttf/cmr10.ttf'\n",
    "cmfont = mpl.font_manager.FontProperties(fname=font_path)\n",
    "mpl.rcParams['font.serif'] = cmfont.get_name()\n",
    "mpl.rcParams['font.size'] = 16\n",
    "mpl.rcParams['mathtext.fontset'] = 'cm'\n",
    "mpl.rcParams['axes.unicode_minus'] = False"
   ]
  },
  {
   "cell_type": "code",
   "execution_count": 2,
   "metadata": {},
   "outputs": [],
   "source": [
    "df_input = pd.read_csv('result_hwe.csv')"
   ]
  },
  {
   "cell_type": "code",
   "execution_count": 3,
   "metadata": {},
   "outputs": [
    {
     "data": {
      "text/html": [
       "<div>\n",
       "<style scoped>\n",
       "    .dataframe tbody tr th:only-of-type {\n",
       "        vertical-align: middle;\n",
       "    }\n",
       "\n",
       "    .dataframe tbody tr th {\n",
       "        vertical-align: top;\n",
       "    }\n",
       "\n",
       "    .dataframe thead th {\n",
       "        text-align: right;\n",
       "    }\n",
       "</style>\n",
       "<table border=\"1\" class=\"dataframe\">\n",
       "  <thead>\n",
       "    <tr style=\"text-align: right;\">\n",
       "      <th></th>\n",
       "      <th>Unnamed: 0</th>\n",
       "      <th>n</th>\n",
       "      <th>l</th>\n",
       "      <th>k</th>\n",
       "      <th>ans</th>\n",
       "      <th>num_pars</th>\n",
       "      <th>grad</th>\n",
       "    </tr>\n",
       "  </thead>\n",
       "  <tbody>\n",
       "    <tr>\n",
       "      <th>0</th>\n",
       "      <td>0</td>\n",
       "      <td>4</td>\n",
       "      <td>100</td>\n",
       "      <td>106</td>\n",
       "      <td>hwe</td>\n",
       "      <td>400</td>\n",
       "      <td>-0.307088</td>\n",
       "    </tr>\n",
       "    <tr>\n",
       "      <th>1</th>\n",
       "      <td>1</td>\n",
       "      <td>4</td>\n",
       "      <td>200</td>\n",
       "      <td>541</td>\n",
       "      <td>hwe</td>\n",
       "      <td>800</td>\n",
       "      <td>0.005218</td>\n",
       "    </tr>\n",
       "    <tr>\n",
       "      <th>2</th>\n",
       "      <td>2</td>\n",
       "      <td>4</td>\n",
       "      <td>100</td>\n",
       "      <td>368</td>\n",
       "      <td>hwe</td>\n",
       "      <td>400</td>\n",
       "      <td>0.516309</td>\n",
       "    </tr>\n",
       "    <tr>\n",
       "      <th>3</th>\n",
       "      <td>3</td>\n",
       "      <td>4</td>\n",
       "      <td>100</td>\n",
       "      <td>254</td>\n",
       "      <td>hwe</td>\n",
       "      <td>400</td>\n",
       "      <td>-0.199507</td>\n",
       "    </tr>\n",
       "    <tr>\n",
       "      <th>4</th>\n",
       "      <td>4</td>\n",
       "      <td>4</td>\n",
       "      <td>100</td>\n",
       "      <td>254</td>\n",
       "      <td>hwe</td>\n",
       "      <td>400</td>\n",
       "      <td>-0.199507</td>\n",
       "    </tr>\n",
       "    <tr>\n",
       "      <th>...</th>\n",
       "      <td>...</td>\n",
       "      <td>...</td>\n",
       "      <td>...</td>\n",
       "      <td>...</td>\n",
       "      <td>...</td>\n",
       "      <td>...</td>\n",
       "      <td>...</td>\n",
       "    </tr>\n",
       "    <tr>\n",
       "      <th>7228</th>\n",
       "      <td>7228</td>\n",
       "      <td>8</td>\n",
       "      <td>500</td>\n",
       "      <td>3146</td>\n",
       "      <td>hwe</td>\n",
       "      <td>4000</td>\n",
       "      <td>0.110828</td>\n",
       "    </tr>\n",
       "    <tr>\n",
       "      <th>7229</th>\n",
       "      <td>7229</td>\n",
       "      <td>8</td>\n",
       "      <td>500</td>\n",
       "      <td>2300</td>\n",
       "      <td>hwe</td>\n",
       "      <td>4000</td>\n",
       "      <td>-0.220157</td>\n",
       "    </tr>\n",
       "    <tr>\n",
       "      <th>7230</th>\n",
       "      <td>7230</td>\n",
       "      <td>8</td>\n",
       "      <td>500</td>\n",
       "      <td>3235</td>\n",
       "      <td>hwe</td>\n",
       "      <td>4000</td>\n",
       "      <td>0.080408</td>\n",
       "    </tr>\n",
       "    <tr>\n",
       "      <th>7231</th>\n",
       "      <td>7231</td>\n",
       "      <td>8</td>\n",
       "      <td>500</td>\n",
       "      <td>3029</td>\n",
       "      <td>hwe</td>\n",
       "      <td>4000</td>\n",
       "      <td>0.060535</td>\n",
       "    </tr>\n",
       "    <tr>\n",
       "      <th>7232</th>\n",
       "      <td>7232</td>\n",
       "      <td>8</td>\n",
       "      <td>500</td>\n",
       "      <td>2351</td>\n",
       "      <td>hwe</td>\n",
       "      <td>4000</td>\n",
       "      <td>0.141748</td>\n",
       "    </tr>\n",
       "  </tbody>\n",
       "</table>\n",
       "<p>7233 rows × 7 columns</p>\n",
       "</div>"
      ],
      "text/plain": [
       "      Unnamed: 0  n    l     k  ans  num_pars      grad\n",
       "0              0  4  100   106  hwe       400 -0.307088\n",
       "1              1  4  200   541  hwe       800  0.005218\n",
       "2              2  4  100   368  hwe       400  0.516309\n",
       "3              3  4  100   254  hwe       400 -0.199507\n",
       "4              4  4  100   254  hwe       400 -0.199507\n",
       "...          ... ..  ...   ...  ...       ...       ...\n",
       "7228        7228  8  500  3146  hwe      4000  0.110828\n",
       "7229        7229  8  500  2300  hwe      4000 -0.220157\n",
       "7230        7230  8  500  3235  hwe      4000  0.080408\n",
       "7231        7231  8  500  3029  hwe      4000  0.060535\n",
       "7232        7232  8  500  2351  hwe      4000  0.141748\n",
       "\n",
       "[7233 rows x 7 columns]"
      ]
     },
     "execution_count": 3,
     "metadata": {},
     "output_type": "execute_result"
    }
   ],
   "source": [
    "df_input"
   ]
  },
  {
   "cell_type": "code",
   "execution_count": 4,
   "metadata": {},
   "outputs": [],
   "source": [
    "df = df_input.groupby(['n', 'l']).agg({'grad': ['mean', 'var']})\n",
    "df.columns = df.columns.to_flat_index()\n",
    "df.reset_index(inplace=True)"
   ]
  },
  {
   "cell_type": "code",
   "execution_count": 5,
   "metadata": {},
   "outputs": [
    {
     "data": {
      "text/html": [
       "<div>\n",
       "<style scoped>\n",
       "    .dataframe tbody tr th:only-of-type {\n",
       "        vertical-align: middle;\n",
       "    }\n",
       "\n",
       "    .dataframe tbody tr th {\n",
       "        vertical-align: top;\n",
       "    }\n",
       "\n",
       "    .dataframe thead th {\n",
       "        text-align: right;\n",
       "    }\n",
       "</style>\n",
       "<table border=\"1\" class=\"dataframe\">\n",
       "  <thead>\n",
       "    <tr style=\"text-align: right;\">\n",
       "      <th></th>\n",
       "      <th>n</th>\n",
       "      <th>l</th>\n",
       "      <th>(grad, mean)</th>\n",
       "      <th>(grad, var)</th>\n",
       "    </tr>\n",
       "  </thead>\n",
       "  <tbody>\n",
       "    <tr>\n",
       "      <th>0</th>\n",
       "      <td>4</td>\n",
       "      <td>100</td>\n",
       "      <td>0.043709</td>\n",
       "      <td>0.163888</td>\n",
       "    </tr>\n",
       "    <tr>\n",
       "      <th>1</th>\n",
       "      <td>4</td>\n",
       "      <td>200</td>\n",
       "      <td>-0.005817</td>\n",
       "      <td>0.191564</td>\n",
       "    </tr>\n",
       "    <tr>\n",
       "      <th>2</th>\n",
       "      <td>4</td>\n",
       "      <td>300</td>\n",
       "      <td>0.004282</td>\n",
       "      <td>0.223314</td>\n",
       "    </tr>\n",
       "    <tr>\n",
       "      <th>3</th>\n",
       "      <td>4</td>\n",
       "      <td>400</td>\n",
       "      <td>-0.004243</td>\n",
       "      <td>0.211130</td>\n",
       "    </tr>\n",
       "    <tr>\n",
       "      <th>4</th>\n",
       "      <td>4</td>\n",
       "      <td>500</td>\n",
       "      <td>0.027963</td>\n",
       "      <td>0.228524</td>\n",
       "    </tr>\n",
       "    <tr>\n",
       "      <th>5</th>\n",
       "      <td>6</td>\n",
       "      <td>100</td>\n",
       "      <td>0.009385</td>\n",
       "      <td>0.082943</td>\n",
       "    </tr>\n",
       "    <tr>\n",
       "      <th>6</th>\n",
       "      <td>6</td>\n",
       "      <td>200</td>\n",
       "      <td>0.003758</td>\n",
       "      <td>0.077546</td>\n",
       "    </tr>\n",
       "    <tr>\n",
       "      <th>7</th>\n",
       "      <td>6</td>\n",
       "      <td>300</td>\n",
       "      <td>0.003113</td>\n",
       "      <td>0.071163</td>\n",
       "    </tr>\n",
       "    <tr>\n",
       "      <th>8</th>\n",
       "      <td>6</td>\n",
       "      <td>400</td>\n",
       "      <td>0.005000</td>\n",
       "      <td>0.077870</td>\n",
       "    </tr>\n",
       "    <tr>\n",
       "      <th>9</th>\n",
       "      <td>6</td>\n",
       "      <td>500</td>\n",
       "      <td>0.002189</td>\n",
       "      <td>0.084678</td>\n",
       "    </tr>\n",
       "    <tr>\n",
       "      <th>10</th>\n",
       "      <td>8</td>\n",
       "      <td>100</td>\n",
       "      <td>0.005778</td>\n",
       "      <td>0.025119</td>\n",
       "    </tr>\n",
       "    <tr>\n",
       "      <th>11</th>\n",
       "      <td>8</td>\n",
       "      <td>200</td>\n",
       "      <td>0.005202</td>\n",
       "      <td>0.024912</td>\n",
       "    </tr>\n",
       "    <tr>\n",
       "      <th>12</th>\n",
       "      <td>8</td>\n",
       "      <td>300</td>\n",
       "      <td>-0.003779</td>\n",
       "      <td>0.029677</td>\n",
       "    </tr>\n",
       "    <tr>\n",
       "      <th>13</th>\n",
       "      <td>8</td>\n",
       "      <td>400</td>\n",
       "      <td>0.011490</td>\n",
       "      <td>0.029321</td>\n",
       "    </tr>\n",
       "    <tr>\n",
       "      <th>14</th>\n",
       "      <td>8</td>\n",
       "      <td>500</td>\n",
       "      <td>0.011711</td>\n",
       "      <td>0.029297</td>\n",
       "    </tr>\n",
       "  </tbody>\n",
       "</table>\n",
       "</div>"
      ],
      "text/plain": [
       "    n    l  (grad, mean)  (grad, var)\n",
       "0   4  100      0.043709     0.163888\n",
       "1   4  200     -0.005817     0.191564\n",
       "2   4  300      0.004282     0.223314\n",
       "3   4  400     -0.004243     0.211130\n",
       "4   4  500      0.027963     0.228524\n",
       "5   6  100      0.009385     0.082943\n",
       "6   6  200      0.003758     0.077546\n",
       "7   6  300      0.003113     0.071163\n",
       "8   6  400      0.005000     0.077870\n",
       "9   6  500      0.002189     0.084678\n",
       "10  8  100      0.005778     0.025119\n",
       "11  8  200      0.005202     0.024912\n",
       "12  8  300     -0.003779     0.029677\n",
       "13  8  400      0.011490     0.029321\n",
       "14  8  500      0.011711     0.029297"
      ]
     },
     "execution_count": 5,
     "metadata": {},
     "output_type": "execute_result"
    }
   ],
   "source": [
    "df"
   ]
  },
  {
   "cell_type": "code",
   "execution_count": 6,
   "metadata": {},
   "outputs": [
    {
     "data": {
      "image/png": "[encoded data removed]",
      "text/plain": [
       "<Figure size 432x288 with 1 Axes>"
      ]
     },
     "metadata": {
      "needs_background": "light"
     },
     "output_type": "display_data"
    }
   ],
   "source": [
    "ax = sns.lineplot(\n",
    "    x='l',\n",
    "    y=('grad', 'var'),\n",
    "    hue='n',\n",
    "    data=df\n",
    ")\n",
    "ax.set_yscale('log')"
   ]
  },
  {
   "cell_type": "code",
   "execution_count": 12,
   "metadata": {},
   "outputs": [],
   "source": [
    "from sklearn.linear_model import LinearRegression"
   ]
  },
  {
   "cell_type": "code",
   "execution_count": 17,
   "metadata": {},
   "outputs": [
    {
     "data": {
      "text/plain": [
       "array([[4],\n",
       "       [6],\n",
       "       [8]])"
      ]
     },
     "execution_count": 17,
     "metadata": {},
     "output_type": "execute_result"
    }
   ],
   "source": []
  },
  {
   "cell_type": "code",
   "execution_count": 20,
   "metadata": {},
   "outputs": [
    {
     "data": {
      "text/plain": [
       "array([[-0.04980672]])"
      ]
     },
     "execution_count": 20,
     "metadata": {},
     "output_type": "execute_result"
    }
   ],
   "source": [
    "reg = LinearRegression().fit(\n",
    "    X=np.array(df[df['l'] == 500]['n']).reshape(-1, 1),\n",
    "    y=np.array(df[df['l'] == 500][('grad', 'var')]).reshape(-1, 1)\n",
    ")\n",
    "reg.coef_"
   ]
  },
  {
   "cell_type": "code",
   "execution_count": 8,
   "metadata": {},
   "outputs": [
    {
     "name": "stderr",
     "output_type": "stream",
     "text": [
      "Font 'default' does not have a glyph for '\\\\times' [U+d7], substituting with a dummy symbol.\n",
      "Font 'default' does not have a glyph for '\\\\times' [U+d7], substituting with a dummy symbol.\n",
      "Font 'default' does not have a glyph for '\\\\times' [U+d7], substituting with a dummy symbol.\n",
      "Font 'default' does not have a glyph for '\\\\times' [U+d7], substituting with a dummy symbol.\n",
      "Font 'default' does not have a glyph for '\\\\times' [U+d7], substituting with a dummy symbol.\n",
      "Font 'default' does not have a glyph for '\\\\times' [U+d7], substituting with a dummy symbol.\n",
      "Font 'default' does not have a glyph for '\\\\times' [U+d7], substituting with a dummy symbol.\n",
      "Font 'default' does not have a glyph for '\\\\times' [U+d7], substituting with a dummy symbol.\n"
     ]
    },
    {
     "data": {
      "image/png": "[encoded data removed]",
      "text/plain": [
       "<Figure size 432x288 with 1 Axes>"
      ]
     },
     "metadata": {
      "needs_background": "light"
     },
     "output_type": "display_data"
    }
   ],
   "source": [
    "ax = sns.lineplot(\n",
    "    x='n',\n",
    "    y=('grad', 'var'),\n",
    "    data=df[df['l']==500]\n",
    ")\n",
    "ax.set_yscale('log')"
   ]
  },
  {
   "cell_type": "code",
   "execution_count": 6,
   "metadata": {},
   "outputs": [],
   "source": [
    "#ax = sns.lineplot(\n",
    "#    data=df,\n",
    "#    hue='n',\n",
    "#    x='l',\n",
    "#    y=('grad', 'var')\n",
    "#)\n",
    "#ax.set_yscale('log')"
   ]
  },
  {
   "cell_type": "code",
   "execution_count": 7,
   "metadata": {
    "scrolled": true
   },
   "outputs": [],
   "source": [
    "df_input_spc_raw = pd.concat(map(pd.read_csv, glob.glob(os.path.join('', \"data/spc/output_0.csv\"))))\n",
    "df_input_spc_raw['ans'] = 'spc'\n",
    "df_input_spc_raw['frac'] = df_input_spc_raw['m'] / df_input_spc_raw['n']\n",
    "#df_input_spc = df_input_spc_raw[df_input_spc_raw['n']//2 == df_input_spc_raw['m']]\n",
    "df_input_spc = df_input_spc_raw[df_input_spc_raw['m'] == 1]\n",
    "df_input_mcp = pd.concat(map(pd.read_csv, glob.glob(os.path.join('', \"data/mcp/output_0.csv.old\"))))\n",
    "df_input_mcp['ans'] = 'mcp'\n",
    "df_input_mcp = df_input_mcp[df_input_mcp['l'] == 2000]\n",
    "\n",
    "df = pd.concat([df_input_mcp, df_input_spc])"
   ]
  },
  {
   "cell_type": "code",
   "execution_count": 8,
   "metadata": {},
   "outputs": [
    {
     "data": {
      "text/plain": [
       "<matplotlib.legend.Legend at 0x2aabe07e06a0>"
      ]
     },
     "execution_count": 8,
     "metadata": {},
     "output_type": "execute_result"
    },
    {
     "data": {
      "image/png": "[encoded data removed]",
      "text/plain": [
       "<Figure size 432x288 with 1 Axes>"
      ]
     },
     "metadata": {
      "needs_background": "light"
     },
     "output_type": "display_data"
    }
   ],
   "source": [
    "ax = sns.lineplot(\n",
    "    x='frac',\n",
    "    y='std',\n",
    "    hue='n',\n",
    "    data=df_input_spc_raw\n",
    ")\n",
    "ax.set_xlabel(r'$m / n$')\n",
    "ax.set_ylabel(r'std$(\\partial f)$')\n",
    "ax.legend(loc='lower right')"
   ]
  },
  {
   "cell_type": "code",
   "execution_count": 12,
   "metadata": {},
   "outputs": [],
   "source": [
    "from math import comb"
   ]
  },
  {
   "cell_type": "code",
   "execution_count": 18,
   "metadata": {},
   "outputs": [
    {
     "data": {
      "text/plain": [
       "<matplotlib.legend.Legend at 0x2aabe08621c0>"
      ]
     },
     "execution_count": 18,
     "metadata": {},
     "output_type": "execute_result"
    },
    {
     "data": {
      "image/png": "[encoded data removed]",
      "text/plain": [
       "<Figure size 432x288 with 1 Axes>"
      ]
     },
     "metadata": {
      "needs_background": "light"
     },
     "output_type": "display_data"
    }
   ],
   "source": [
    "_pars_dat = []\n",
    "for n in range(4, 11, 2):\n",
    "    for m in range(1, n):\n",
    "        pars = 2*(comb(n, m) - 1)\n",
    "        _pars_dat.append({\n",
    "            'n': n,\n",
    "            'm': m,\n",
    "            'pars': pars,\n",
    "            '1/pars': 1/pars,\n",
    "            'frac': m/n\n",
    "        })\n",
    "\n",
    "df_pars = pd.DataFrame(_pars_dat)\n",
    "\n",
    "ax = sns.lineplot(\n",
    "    x='frac',\n",
    "    y='1/pars',\n",
    "    hue='n',\n",
    "    data=df_pars\n",
    ")\n",
    "\n",
    "ax.set_xlabel(r'$m / n$')\n",
    "ax.set_ylabel(r'$1/(2\\binom{n}{m}-2)$')\n",
    "ax.legend(loc='lower right')"
   ]
  },
  {
   "cell_type": "code",
   "execution_count": 57,
   "metadata": {},
   "outputs": [
    {
     "data": {
      "text/plain": [
       "Text(0, 0.5, 'std$(\\\\partial f)$')"
      ]
     },
     "execution_count": 57,
     "metadata": {},
     "output_type": "execute_result"
    },
    {
     "data": {
      "image/png": "[encoded data removed]",
      "text/plain": [
       "<Figure size 432x288 with 1 Axes>"
      ]
     },
     "metadata": {
      "needs_background": "light"
     },
     "output_type": "display_data"
    }
   ],
   "source": [
    "ax = sns.lineplot(\n",
    "    data=df,\n",
    "    x='n',\n",
    "    hue='ans',\n",
    "    y='std'\n",
    ")\n",
    "ax.set_xlabel(r'$n$')\n",
    "ax.set_ylabel(r'std$(\\partial f)$')"
   ]
  },
  {
   "cell_type": "code",
   "execution_count": 59,
   "metadata": {},
   "outputs": [
    {
     "name": "stderr",
     "output_type": "stream",
     "text": [
      "Font 'default' does not have a glyph for '\\\\times' [U+d7], substituting with a dummy symbol.\n",
      "Font 'default' does not have a glyph for '\\\\times' [U+d7], substituting with a dummy symbol.\n",
      "Font 'default' does not have a glyph for '\\\\times' [U+d7], substituting with a dummy symbol.\n",
      "Font 'default' does not have a glyph for '\\\\times' [U+d7], substituting with a dummy symbol.\n",
      "Font 'default' does not have a glyph for '\\\\times' [U+d7], substituting with a dummy symbol.\n",
      "Font 'default' does not have a glyph for '\\\\times' [U+d7], substituting with a dummy symbol.\n",
      "Font 'default' does not have a glyph for '\\\\times' [U+d7], substituting with a dummy symbol.\n",
      "Font 'default' does not have a glyph for '\\\\times' [U+d7], substituting with a dummy symbol.\n"
     ]
    },
    {
     "data": {
      "image/png": "[encoded data removed]",
      "text/plain": [
       "<Figure size 432x288 with 1 Axes>"
      ]
     },
     "metadata": {
      "needs_background": "light"
     },
     "output_type": "display_data"
    }
   ],
   "source": [
    "ax = sns.lineplot(\n",
    "    data=df,\n",
    "    x='n',\n",
    "    y='std',\n",
    "    hue='ans'\n",
    ")\n",
    "\n",
    "ax.set_xlabel(r'$n$')\n",
    "ax.set_ylabel(r'std$(\\partial f)$')\n",
    "\n",
    "ax.set_yscale('log')"
   ]
  }
 ],
 "metadata": {
  "kernelspec": {
   "display_name": "Python 3",
   "language": "python",
   "name": "python3"
  },
  "language_info": {
   "codemirror_mode": {
    "name": "ipython",
    "version": 3
   },
   "file_extension": ".py",
   "mimetype": "text/x-python",
   "name": "python",
   "nbconvert_exporter": "python",
   "pygments_lexer": "ipython3",
   "version": "3.8.5"
  }
 },
 "nbformat": 4,
 "nbformat_minor": 4
}
