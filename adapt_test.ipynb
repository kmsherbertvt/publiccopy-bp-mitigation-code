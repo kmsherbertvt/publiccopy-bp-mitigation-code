{
 "cells": [
  {
   "cell_type": "code",
   "execution_count": 1,
   "id": "blond-third",
   "metadata": {},
   "outputs": [],
   "source": [
    "from itertools import product\n",
    "import numpy as np\n",
    "import networkx as nx\n",
    "import time\n",
    "\n",
    "from adapt import adapt\n",
    "from callbacks import MaxGradientStopper, ParameterStopper, EnergyErrorPrinter\n",
    "from simulator import make_connectivity_pool, plus_state\n",
    "from scipy.optimize import minimize"
   ]
  },
  {
   "cell_type": "code",
   "execution_count": 2,
   "id": "necessary-excitement",
   "metadata": {},
   "outputs": [],
   "source": [
    "num_qubits = 3\n",
    "ham = np.diag(np.random.uniform(size=2**num_qubits))"
   ]
  },
  {
   "cell_type": "code",
   "execution_count": 3,
   "id": "polyphonic-parallel",
   "metadata": {},
   "outputs": [
    {
     "data": {
      "text/plain": [
       "array([[0.71432954, 0.        , 0.        , 0.        , 0.        ,\n",
       "        0.        , 0.        , 0.        ],\n",
       "       [0.        , 0.43249917, 0.        , 0.        , 0.        ,\n",
       "        0.        , 0.        , 0.        ],\n",
       "       [0.        , 0.        , 0.9351176 , 0.        , 0.        ,\n",
       "        0.        , 0.        , 0.        ],\n",
       "       [0.        , 0.        , 0.        , 0.07356463, 0.        ,\n",
       "        0.        , 0.        , 0.        ],\n",
       "       [0.        , 0.        , 0.        , 0.        , 0.6280961 ,\n",
       "        0.        , 0.        , 0.        ],\n",
       "       [0.        , 0.        , 0.        , 0.        , 0.        ,\n",
       "        0.45035486, 0.        , 0.        ],\n",
       "       [0.        , 0.        , 0.        , 0.        , 0.        ,\n",
       "        0.        , 0.70418487, 0.        ],\n",
       "       [0.        , 0.        , 0.        , 0.        , 0.        ,\n",
       "        0.        , 0.        , 0.32046303]])"
      ]
     },
     "execution_count": 3,
     "metadata": {},
     "output_type": "execute_result"
    }
   ],
   "source": [
    "ham"
   ]
  },
  {
   "cell_type": "code",
   "execution_count": 4,
   "id": "atmospheric-bahrain",
   "metadata": {},
   "outputs": [],
   "source": [
    "#pool = make_connectivity_pool(nx.path_graph(num_qubits))"
   ]
  },
  {
   "cell_type": "code",
   "execution_count": 5,
   "id": "changing-farming",
   "metadata": {},
   "outputs": [],
   "source": [
    "pool = list(product(range(4), repeat=num_qubits))"
   ]
  },
  {
   "cell_type": "code",
   "execution_count": 6,
   "id": "noted-hamilton",
   "metadata": {},
   "outputs": [],
   "source": [
    "def optimizer(*args, **kwargs):\n",
    "    return minimize(*args, method='Nelder-Mead', **kwargs)"
   ]
  },
  {
   "cell_type": "code",
   "execution_count": 12,
   "id": "fiscal-bachelor",
   "metadata": {},
   "outputs": [],
   "source": [
    "callbacks = [\n",
    "    MaxGradientStopper(1e-3),\n",
    "    ParameterStopper(50),\n",
    "    EnergyErrorPrinter(np.min(np.linalg.eigvalsh(ham)))\n",
    "]"
   ]
  },
  {
   "cell_type": "code",
   "execution_count": 13,
   "id": "minus-constitution",
   "metadata": {
    "scrolled": true
   },
   "outputs": [
    {
     "name": "stdout",
     "output_type": "stream",
     "text": [
      "\n",
      "Energy error at step 2 reported: 0.36054869791875366\n",
      "Log_10(|Energy error|) at step 2 reported: -0.4430360685061119\n",
      "\n",
      "Energy error at step 3 reported: 0.3203824582350242\n",
      "Log_10(|Energy error|) at step 3 reported: -0.4943312706785883\n",
      "Improvement from last (positive good): 0.040166239683729454\n",
      "Log_10(|improvement|): -1.3961388245055169\n",
      "\n",
      "Energy error at step 4 reported: 0.3203824582676876\n",
      "Log_10(|Energy error|) at step 4 reported: -0.4943312706343114\n",
      "Improvement from last (positive good): -3.266337200713565e-11\n",
      "Log_10(|improvement|): -10.485938982841901\n",
      "\n",
      "Energy error at step 5 reported: 0.12344920219668121\n",
      "Log_10(|Energy error|) at step 5 reported: -0.9085117123962739\n",
      "Improvement from last (positive good): 0.19693325607100637\n",
      "Log_10(|improvement|): -0.7056809384653744\n",
      "\n",
      "Energy error at step 6 reported: 3.0720439635062435e-06\n",
      "Log_10(|Energy error|) at step 6 reported: -5.512572573480517\n",
      "Improvement from last (positive good): 0.1234461301527177\n",
      "Log_10(|improvement|): -0.9085225199861048\n",
      "Time elapsed: 0.0s\n"
     ]
    }
   ],
   "source": [
    "t_i = time.time()\n",
    "\n",
    "result = adapt(\n",
    "    ham=ham,\n",
    "    pool=pool,\n",
    "    optimizer=optimizer,\n",
    "    callbacks=callbacks,\n",
    "    initial_state=plus_state(num_qubits),\n",
    "    new_parameter=1e-2\n",
    ")\n",
    "\n",
    "t_f = time.time()\n",
    "\n",
    "print(f'Time elapsed: {np.floor(t_f-t_i)}s')"
   ]
  },
  {
   "cell_type": "code",
   "execution_count": 14,
   "id": "satellite-decade",
   "metadata": {
    "scrolled": true
   },
   "outputs": [
    {
     "data": {
      "text/html": [
       "<div>\n",
       "<style scoped>\n",
       "    .dataframe tbody tr th:only-of-type {\n",
       "        vertical-align: middle;\n",
       "    }\n",
       "\n",
       "    .dataframe tbody tr th {\n",
       "        vertical-align: top;\n",
       "    }\n",
       "\n",
       "    .dataframe thead th {\n",
       "        text-align: right;\n",
       "    }\n",
       "</style>\n",
       "<table border=\"1\" class=\"dataframe\">\n",
       "  <thead>\n",
       "    <tr style=\"text-align: right;\">\n",
       "      <th></th>\n",
       "      <th>energy</th>\n",
       "      <th>gradients</th>\n",
       "      <th>opt_params</th>\n",
       "      <th>min_vector</th>\n",
       "      <th>max_grad</th>\n",
       "      <th>op_indices</th>\n",
       "    </tr>\n",
       "  </thead>\n",
       "  <tbody>\n",
       "    <tr>\n",
       "      <th>0</th>\n",
       "      <td>0.532326</td>\n",
       "      <td>[0.0, 0.0, -0.4262116082893272, 0.0, 0.0, 0.0,...</td>\n",
       "      <td>[]</td>\n",
       "      <td>None</td>\n",
       "      <td>[0.4262116082893272]</td>\n",
       "      <td>[]</td>\n",
       "    </tr>\n",
       "    <tr>\n",
       "      <th>1</th>\n",
       "      <td>0.434113</td>\n",
       "      <td>[0.0, 0.0, -1.9745017750867218e-05, 0.0, 0.0, ...</td>\n",
       "      <td>[-0.7853750000000022]</td>\n",
       "      <td>None</td>\n",
       "      <td>[0.4741989942207954]</td>\n",
       "      <td>[14]</td>\n",
       "    </tr>\n",
       "    <tr>\n",
       "      <th>2</th>\n",
       "      <td>0.393947</td>\n",
       "      <td>[0.0, 0.0, 2.7419413668872166e-10, 0.0, 0.0, 0...</td>\n",
       "      <td>[-0.7853739271852374, -0.7854047994245659]</td>\n",
       "      <td>None</td>\n",
       "      <td>[0.6407649160056544]</td>\n",
       "      <td>[14, 47]</td>\n",
       "    </tr>\n",
       "    <tr>\n",
       "      <th>3</th>\n",
       "      <td>0.393947</td>\n",
       "      <td>[0.0, 0.0, 9.598482435792955e-10, 0.0, 0.0, 0....</td>\n",
       "      <td>[-0.7953964807919882, -0.7854324560199057, 0.0...</td>\n",
       "      <td>None</td>\n",
       "      <td>[0.6407649157515533]</td>\n",
       "      <td>[14, 47, 30]</td>\n",
       "    </tr>\n",
       "    <tr>\n",
       "      <th>4</th>\n",
       "      <td>0.197014</td>\n",
       "      <td>[0.0, 0.0, -1.016040222245962e-09, 0.0, 0.0, 0...</td>\n",
       "      <td>[-0.42359383478166845, 4.3377196928369765e-05,...</td>\n",
       "      <td>None</td>\n",
       "      <td>[0.24689840038641744]</td>\n",
       "      <td>[14, 47, 30, 22]</td>\n",
       "    </tr>\n",
       "    <tr>\n",
       "      <th>5</th>\n",
       "      <td>0.073568</td>\n",
       "      <td>[0.0, 0.0, 1.3771103499914214e-09, 0.0, 0.0, 0...</td>\n",
       "      <td>[-0.6166524388212524, 0.002353416604436529, -0...</td>\n",
       "      <td>None</td>\n",
       "      <td>[0.002610077475154464]</td>\n",
       "      <td>[14, 47, 30, 22, 32]</td>\n",
       "    </tr>\n",
       "    <tr>\n",
       "      <th>6</th>\n",
       "      <td>0.073565</td>\n",
       "      <td>[0.0, 0.0, -3.7395321034079756e-12, 0.0, 0.0, ...</td>\n",
       "      <td>[-0.5670021903574958, 0.0028416452504930246, -...</td>\n",
       "      <td>None</td>\n",
       "      <td>[1.2267306652317447e-05]</td>\n",
       "      <td>[14, 47, 30, 22, 32, 37]</td>\n",
       "    </tr>\n",
       "  </tbody>\n",
       "</table>\n",
       "</div>"
      ],
      "text/plain": [
       "     energy                                          gradients  \\\n",
       "0  0.532326  [0.0, 0.0, -0.4262116082893272, 0.0, 0.0, 0.0,...   \n",
       "1  0.434113  [0.0, 0.0, -1.9745017750867218e-05, 0.0, 0.0, ...   \n",
       "2  0.393947  [0.0, 0.0, 2.7419413668872166e-10, 0.0, 0.0, 0...   \n",
       "3  0.393947  [0.0, 0.0, 9.598482435792955e-10, 0.0, 0.0, 0....   \n",
       "4  0.197014  [0.0, 0.0, -1.016040222245962e-09, 0.0, 0.0, 0...   \n",
       "5  0.073568  [0.0, 0.0, 1.3771103499914214e-09, 0.0, 0.0, 0...   \n",
       "6  0.073565  [0.0, 0.0, -3.7395321034079756e-12, 0.0, 0.0, ...   \n",
       "\n",
       "                                          opt_params min_vector  \\\n",
       "0                                                 []       None   \n",
       "1                              [-0.7853750000000022]       None   \n",
       "2         [-0.7853739271852374, -0.7854047994245659]       None   \n",
       "3  [-0.7953964807919882, -0.7854324560199057, 0.0...       None   \n",
       "4  [-0.42359383478166845, 4.3377196928369765e-05,...       None   \n",
       "5  [-0.6166524388212524, 0.002353416604436529, -0...       None   \n",
       "6  [-0.5670021903574958, 0.0028416452504930246, -...       None   \n",
       "\n",
       "                   max_grad                op_indices  \n",
       "0      [0.4262116082893272]                        []  \n",
       "1      [0.4741989942207954]                      [14]  \n",
       "2      [0.6407649160056544]                  [14, 47]  \n",
       "3      [0.6407649157515533]              [14, 47, 30]  \n",
       "4     [0.24689840038641744]          [14, 47, 30, 22]  \n",
       "5    [0.002610077475154464]      [14, 47, 30, 22, 32]  \n",
       "6  [1.2267306652317447e-05]  [14, 47, 30, 22, 32, 37]  "
      ]
     },
     "execution_count": 14,
     "metadata": {},
     "output_type": "execute_result"
    }
   ],
   "source": [
    "result.dataframe"
   ]
  },
  {
   "cell_type": "code",
   "execution_count": 15,
   "id": "bacterial-opera",
   "metadata": {},
   "outputs": [
    {
     "data": {
      "text/plain": [
       "'Gradient threshhold satisfied'"
      ]
     },
     "execution_count": 15,
     "metadata": {},
     "output_type": "execute_result"
    }
   ],
   "source": [
    "result.halt_reason"
   ]
  },
  {
   "cell_type": "code",
   "execution_count": 16,
   "id": "manufactured-chapel",
   "metadata": {},
   "outputs": [
    {
     "data": {
      "text/plain": [
       "8.384060112831548e-11"
      ]
     },
     "execution_count": 16,
     "metadata": {},
     "output_type": "execute_result"
    }
   ],
   "source": [
    "result.step_history[-1]['energy'] - np.min(np.linalg.eigvalsh(ham))"
   ]
  }
 ],
 "metadata": {
  "kernelspec": {
   "display_name": "Python 3",
   "language": "python",
   "name": "python3"
  },
  "language_info": {
   "codemirror_mode": {
    "name": "ipython",
    "version": 3
   },
   "file_extension": ".py",
   "mimetype": "text/x-python",
   "name": "python",
   "nbconvert_exporter": "python",
   "pygments_lexer": "ipython3",
   "version": "3.8.5"
  }
 },
 "nbformat": 4,
 "nbformat_minor": 5
}
