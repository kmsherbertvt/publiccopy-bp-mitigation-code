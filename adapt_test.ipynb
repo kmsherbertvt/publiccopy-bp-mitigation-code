{
 "cells": [
  {
   "cell_type": "code",
   "execution_count": 78,
   "id": "approved-atlas",
   "metadata": {},
   "outputs": [],
   "source": [
    "%load_ext line_profiler"
   ]
  },
  {
   "cell_type": "code",
   "execution_count": 79,
   "id": "exciting-detail",
   "metadata": {},
   "outputs": [],
   "source": [
    "from itertools import product\n",
    "import numpy as np\n",
    "import networkx as nx\n",
    "import time\n",
    "\n",
    "from adapt import adapt\n",
    "from callbacks import MaxGradientStopper, ParameterStopper, EnergyErrorPrinter\n",
    "from simulator import make_connectivity_pool, plus_state\n",
    "from scipy.optimize import minimize"
   ]
  },
  {
   "cell_type": "code",
   "execution_count": 87,
   "id": "foster-indonesia",
   "metadata": {},
   "outputs": [],
   "source": [
    "num_qubits = 6\n",
    "ham = np.diag(np.random.uniform(size=2**num_qubits))"
   ]
  },
  {
   "cell_type": "code",
   "execution_count": 88,
   "id": "latest-commercial",
   "metadata": {},
   "outputs": [],
   "source": [
    "#pool = make_connectivity_pool(nx.path_graph(num_qubits))"
   ]
  },
  {
   "cell_type": "code",
   "execution_count": 89,
   "id": "nearby-preview",
   "metadata": {},
   "outputs": [],
   "source": [
    "def _two_local(i, j, a, b, n):\n",
    "    p = [0] * n\n",
    "    p[i] = a\n",
    "    p[j] = b\n",
    "    return p\n",
    "\n",
    "pool = []\n",
    "for i in range(num_qubits):\n",
    "    for j in range(num_qubits):\n",
    "        for a in range(4):\n",
    "            for b in range(4):\n",
    "                pool.append(_two_local(i, j, a, b, num_qubits))"
   ]
  },
  {
   "cell_type": "code",
   "execution_count": 90,
   "id": "institutional-palmer",
   "metadata": {},
   "outputs": [],
   "source": [
    "def optimizer(*args, **kwargs):\n",
    "    return minimize(*args, method='Nelder-Mead', **kwargs)"
   ]
  },
  {
   "cell_type": "code",
   "execution_count": 94,
   "id": "beneficial-fraud",
   "metadata": {},
   "outputs": [],
   "source": [
    "callbacks = [\n",
    "    MaxGradientStopper(1e-5),\n",
    "    ParameterStopper(10),\n",
    "    EnergyErrorPrinter(np.min(np.linalg.eigvalsh(ham))),\n",
    "    \n",
    "]"
   ]
  },
  {
   "cell_type": "code",
   "execution_count": 95,
   "id": "senior-startup",
   "metadata": {
    "scrolled": true
   },
   "outputs": [],
   "source": [
    "def main():\n",
    "\n",
    "    t_i = time.time()\n",
    "    \n",
    "    result = adapt(\n",
    "        ham=ham,\n",
    "        pool=pool,\n",
    "        optimizer=optimizer,\n",
    "        callbacks=callbacks,\n",
    "        initial_state=plus_state(num_qubits),\n",
    "        new_parameter=1e-2\n",
    "    )\n",
    "\n",
    "    t_f = time.time()\n",
    "\n",
    "    print(f'Time elapsed: {np.floor(t_f-t_i)}s')"
   ]
  },
  {
   "cell_type": "code",
   "execution_count": 96,
   "id": "impressive-latin",
   "metadata": {},
   "outputs": [
    {
     "name": "stdout",
     "output_type": "stream",
     "text": [
      "\n",
      "Energy error at step 2 reported: 0.3139355607613415\n",
      "Log_10(|Energy error|) at step 2 reported: -0.5031594872063088\n",
      "\n",
      "Energy error at step 3 reported: 0.24599827254491835\n",
      "Log_10(|Energy error|) at step 3 reported: -0.609067942599238\n",
      "Improvement from last (positive good): 0.06793728821642314\n",
      "Log_10(|improvement|): -1.167891792410766\n",
      "\n",
      "Energy error at step 4 reported: 0.1532492733100003\n",
      "Log_10(|Energy error|) at step 4 reported: -0.8146015761779335\n",
      "Improvement from last (positive good): 0.09274899923491806\n",
      "Log_10(|improvement|): -1.0326907677409227\n",
      "\n",
      "Energy error at step 5 reported: 0.14878335206299045\n",
      "Log_10(|Energy error|) at step 5 reported: -0.8274456609384289\n",
      "Improvement from last (positive good): 0.004465921247009841\n",
      "Log_10(|improvement|): -2.3500889396368647\n",
      "\n",
      "Energy error at step 6 reported: 0.11439181679651025\n",
      "Log_10(|Energy error|) at step 6 reported: -0.9416050423894506\n",
      "Improvement from last (positive good): 0.0343915352664802\n",
      "Log_10(|improvement|): -1.4635484364816191\n",
      "\n",
      "Energy error at step 7 reported: 0.0028237180876823226\n",
      "Log_10(|Energy error|) at step 7 reported: -2.549178664233347\n",
      "Improvement from last (positive good): 0.11156809870882793\n",
      "Log_10(|improvement|): -0.9524599679010213\n",
      "\n",
      "Energy error at step 8 reported: 0.0028232176200916614\n",
      "Log_10(|Energy error|) at step 8 reported: -2.549255644147698\n",
      "Improvement from last (positive good): 5.004675906611356e-07\n",
      "Log_10(|improvement|): -6.300624041367006\n",
      "\n",
      "Energy error at step 9 reported: 0.00282321705752658\n",
      "Log_10(|Energy error|) at step 9 reported: -2.549255730686877\n",
      "Improvement from last (positive good): 5.625650813245731e-10\n",
      "Log_10(|improvement|): -9.24982722819409\n",
      "\n",
      "Energy error at step 10 reported: 0.002823217116470121\n",
      "Log_10(|Energy error|) at step 10 reported: -2.5492557216196126\n",
      "Improvement from last (positive good): -5.894354102031762e-11\n",
      "Log_10(|improvement|): -10.229563777556496\n",
      "\n",
      "Energy error at step 11 reported: 0.0028232195066170765\n",
      "Log_10(|Energy error|) at step 11 reported: -2.549255353944315\n",
      "Improvement from last (positive good): -2.3901469553555543e-09\n",
      "Log_10(|improvement|): -8.621575396148952\n",
      "Time elapsed: 39.0s\n"
     ]
    }
   ],
   "source": [
    "%lprun -f adapt main()"
   ]
  },
  {
   "cell_type": "code",
   "execution_count": null,
   "id": "historical-ending",
   "metadata": {
    "scrolled": true
   },
   "outputs": [],
   "source": [
    "result.dataframe"
   ]
  },
  {
   "cell_type": "code",
   "execution_count": null,
   "id": "rocky-collective",
   "metadata": {
    "scrolled": true
   },
   "outputs": [],
   "source": [
    "result.halt_reason"
   ]
  },
  {
   "cell_type": "code",
   "execution_count": null,
   "id": "french-hunger",
   "metadata": {},
   "outputs": [],
   "source": [
    "result.step_history[-1]['energy'] - np.min(np.linalg.eigvalsh(ham))"
   ]
  }
 ],
 "metadata": {
  "kernelspec": {
   "display_name": "Python 3",
   "language": "python",
   "name": "python3"
  },
  "language_info": {
   "codemirror_mode": {
    "name": "ipython",
    "version": 3
   },
   "file_extension": ".py",
   "mimetype": "text/x-python",
   "name": "python",
   "nbconvert_exporter": "python",
   "pygments_lexer": "ipython3",
   "version": "3.8.5"
  }
 },
 "nbformat": 4,
 "nbformat_minor": 5
}
