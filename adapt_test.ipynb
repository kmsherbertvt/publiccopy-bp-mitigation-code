{
 "cells": [
  {
   "cell_type": "code",
   "execution_count": 1,
   "id": "directed-worth",
   "metadata": {},
   "outputs": [],
   "source": [
    "from itertools import product\n",
    "import numpy as np\n",
    "import networkx as nx\n",
    "import time\n",
    "\n",
    "from adapt import adapt\n",
    "from callbacks import MaxGradientStopper, ParameterStopper\n",
    "from simulator import make_connectivity_pool\n",
    "from scipy.optimize import minimize"
   ]
  },
  {
   "cell_type": "code",
   "execution_count": 13,
   "id": "existing-saskatchewan",
   "metadata": {},
   "outputs": [],
   "source": [
    "num_qubits = 6\n",
    "ham = np.random.uniform(size=(2**num_qubits, 2**num_qubits))\n",
    "ham = ham + ham.T\n",
    "ham /= 2.0"
   ]
  },
  {
   "cell_type": "code",
   "execution_count": 14,
   "id": "separated-september",
   "metadata": {},
   "outputs": [],
   "source": [
    "#pool = make_connectivity_pool(nx.path_graph(num_qubits))"
   ]
  },
  {
   "cell_type": "code",
   "execution_count": 15,
   "id": "fifty-edwards",
   "metadata": {},
   "outputs": [],
   "source": [
    "pool = list(product(range(4), repeat=num_qubits))"
   ]
  },
  {
   "cell_type": "code",
   "execution_count": 16,
   "id": "indian-heart",
   "metadata": {},
   "outputs": [],
   "source": [
    "def optimizer(*args, **kwargs):\n",
    "    return minimize(*args, method='Nelder-Mead', **kwargs)"
   ]
  },
  {
   "cell_type": "code",
   "execution_count": 19,
   "id": "happy-cleaning",
   "metadata": {},
   "outputs": [],
   "source": [
    "callbacks = [\n",
    "    MaxGradientStopper(1e-5),\n",
    "    ParameterStopper(50)\n",
    "]"
   ]
  },
  {
   "cell_type": "code",
   "execution_count": null,
   "id": "turned-notification",
   "metadata": {
    "scrolled": true
   },
   "outputs": [],
   "source": [
    "t_i = time.time()\n",
    "\n",
    "result = adapt(\n",
    "    ham=ham,\n",
    "    pool=pool,\n",
    "    optimizer=optimizer,\n",
    "    callbacks=callbacks\n",
    ")\n",
    "\n",
    "t_f = time.time()\n",
    "\n",
    "print(f'Time elapsed: {np.floor(t_f-t_i)}s')"
   ]
  },
  {
   "cell_type": "code",
   "execution_count": null,
   "id": "collectible-ordinance",
   "metadata": {},
   "outputs": [],
   "source": [
    "result.step_history[-1]['energy'] - np.min(np.linalg.eigvalsh(ham))"
   ]
  }
 ],
 "metadata": {
  "kernelspec": {
   "display_name": "Python 3",
   "language": "python",
   "name": "python3"
  },
  "language_info": {
   "codemirror_mode": {
    "name": "ipython",
    "version": 3
   },
   "file_extension": ".py",
   "mimetype": "text/x-python",
   "name": "python",
   "nbconvert_exporter": "python",
   "pygments_lexer": "ipython3",
   "version": "3.8.5"
  }
 },
 "nbformat": 4,
 "nbformat_minor": 5
}
